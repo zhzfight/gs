{
 "cells": [
  {
   "cell_type": "markdown",
   "source": [],
   "metadata": {
    "collapsed": false
   }
  },
  {
   "cell_type": "code",
   "execution_count": 20,
   "outputs": [
    {
     "name": "stdout",
     "output_type": "stream",
     "text": [
      "        user_id                    POI_id                 POI_catid  \\\n",
      "3660          1  4d4ac10da0ef54814b6ffff6  4bf58dd8d48988d157941735   \n",
      "5603          1  4db44994cda1c57c82583709  4bf58dd8d48988d1f1931735   \n",
      "5783          1  4a541923f964a52008b31fe3  4bf58dd8d48988d14e941735   \n",
      "6696          1  40f1d480f964a5205b0a1fe3  4bf58dd8d48988d143941735   \n",
      "7666          1  3fd66200f964a52094e41ee3  4bf58dd8d48988d1cc941735   \n",
      "...         ...                       ...                       ...   \n",
      "220748     1083  49f4dca6f964a520626b1fe3  4bf58dd8d48988d1c1941735   \n",
      "220756     1083  40b68100f964a52085001fe3  4bf58dd8d48988d116941735   \n",
      "224179     1083  4eda64ced5fb8f213a5d740e  4bf58dd8d48988d176941735   \n",
      "224647     1083  51140198e4b0874a568cde81  4bf58dd8d48988d162941735   \n",
      "225359     1083  4a53d9a7f964a520c7b21fe3  4bf58dd8d48988d124941735   \n",
      "\n",
      "                 poi_cat_name   latitude  longitude  timezone  \\\n",
      "3660      American Restaurant  40.784018 -73.974524      -240   \n",
      "5603    General Entertainment  40.739398 -73.993210      -240   \n",
      "5783      American Restaurant  40.785677 -73.976498      -240   \n",
      "6696           Breakfast Spot  40.719929 -74.008532      -240   \n",
      "7666               Steakhouse  40.734276 -73.993525      -240   \n",
      "...                       ...        ...        ...       ...   \n",
      "220748     Mexican Restaurant  40.735174 -73.979597      -300   \n",
      "220756                    Bar  40.737831 -73.981022      -300   \n",
      "224179   Gym / Fitness Center  40.746119 -73.993070      -300   \n",
      "224647   Other Great Outdoors  40.757790 -73.981934      -300   \n",
      "225359                 Office  40.745518 -73.992351      -300   \n",
      "\n",
      "                              UTC_time  norm_in_day_time     timestamp  \\\n",
      "3660    Sat Apr 07 17:42:24 +0000 2012              0.57  1.333821e+09   \n",
      "5603    Sun Apr 08 18:20:29 +0000 2012              0.60  1.333909e+09   \n",
      "5783    Sun Apr 08 20:02:10 +0000 2012              0.67  1.333915e+09   \n",
      "6696    Mon Apr 09 16:20:52 +0000 2012              0.51  1.333988e+09   \n",
      "7666    Tue Apr 10 00:24:31 +0000 2012              0.85  1.334017e+09   \n",
      "...                                ...               ...           ...   \n",
      "220748  Sat Feb 02 04:19:34 +0000 2013              0.97  1.359779e+09   \n",
      "220756  Sat Feb 02 04:48:36 +0000 2013              0.99  1.359781e+09   \n",
      "224179  Thu Feb 07 23:37:55 +0000 2013              0.78  1.360280e+09   \n",
      "224647  Fri Feb 08 13:15:06 +0000 2013              0.34  1.360329e+09   \n",
      "225359  Mon Feb 11 15:49:50 +0000 2013              0.45  1.360598e+09   \n",
      "\n",
      "       trajectory_id  \n",
      "3660             1_1  \n",
      "5603             1_2  \n",
      "5783             1_2  \n",
      "6696             1_2  \n",
      "7666             1_2  \n",
      "...              ...  \n",
      "220748       1083_72  \n",
      "220756       1083_72  \n",
      "224179       1083_73  \n",
      "224647       1083_73  \n",
      "225359       1083_74  \n",
      "\n",
      "[171753 rows x 11 columns]\n"
     ]
    }
   ],
   "source": [
    "# 导入pandas模块\n",
    "import pandas as pd\n",
    "import datetime as dt\n",
    "\n",
    "# 定义列名列表\n",
    "col_names = [\"user_id\", \"POI_id\", \"POI_catid\", \"poi_cat_name\", \"latitude\", \"longitude\", \"timezone\", \"UTC_time\"]\n",
    "\n",
    "# 读取csv文件，并添加列名\n",
    "df = pd.read_csv(\"./dataset/dataset_tsmc2014/dataset_TSMC2014_NYC.txt\", names=col_names,sep='\\t')\n",
    "\n",
    "# 统计每个用户的签到次数\n",
    "user_counts = df.groupby(\"user_id\").size()\n",
    "\n",
    "# 筛选出签到次数大于等于10次的用户\n",
    "valid_users = user_counts[user_counts >= 5].index\n",
    "\n",
    "# 从数据集中只保留有效用户的数据\n",
    "df = df[df[\"user_id\"].isin(valid_users)]\n",
    "\n",
    "# 统计每个poi的被签到次数\n",
    "poi_counts = df.groupby(\"POI_id\").size()\n",
    "\n",
    "# 筛选出被签到次数大于等于10次的poi\n",
    "valid_pois = poi_counts[poi_counts >= 6].index\n",
    "\n",
    "# 从数据集中只保留有效poi的数据\n",
    "df = df[df[\"POI_id\"].isin(valid_pois)]\n",
    "def get_local_fraction(utc_time, timezone_offset):\n",
    "  # 将utc时间戳转换为datetime对象\n",
    "  utc_datetime = dt.datetime.strptime(utc_time, \"%a %b %d %H:%M:%S %z %Y\")\n",
    "  # 根据时区偏移计算本地时间\n",
    "  local_datetime = utc_datetime + dt.timedelta(minutes=timezone_offset)\n",
    "  # 获取本地时间的小时和分钟\n",
    "  local_hour = local_datetime.hour\n",
    "  local_minute = local_datetime.minute\n",
    "  # 计算本地时间百分比，保留两位小数\n",
    "  local_fraction = round((local_hour + local_minute / 60) / 24, 2)\n",
    "  # 返回本地时间百分比\n",
    "  return local_fraction\n",
    "df[\"norm_in_day_time\"] = df.apply(lambda row: get_local_fraction(row[\"UTC_time\"], row[\"timezone\"]), axis=1)\n",
    "# 把UTC time列转换成时间戳\n",
    "df[\"timestamp\"] = pd.to_datetime(df[\"UTC_time\"], format=\"%a %b %d %H:%M:%S %z %Y\").astype(int) / 10**9\n",
    "\n",
    "# 按照user分组\n",
    "groups = df.groupby(\"user_id\")\n",
    "\n",
    "# 创建一个空的列表，用于存储结果\n",
    "result = []\n",
    "\n",
    "# 遍历每个分组\n",
    "for name, group in groups:\n",
    "    # 对每个分组内的时间戳进行排序\n",
    "    group = group.sort_values(\"timestamp\")\n",
    "    # 创建一个变量，用于记录小组的序号\n",
    "    traj_id = 1\n",
    "    # 创建一个变量，用于记录上一个时间戳\n",
    "    prev_timestamp = None\n",
    "    # 遍历每个分组内的行\n",
    "    for index, row in group.iterrows():\n",
    "        # 获取当前时间戳\n",
    "        curr_timestamp = row[\"timestamp\"]\n",
    "        # 如果是第一行，或者时间相差大于24小时\n",
    "        if prev_timestamp is None or curr_timestamp - prev_timestamp > 24 * 60 * 60:\n",
    "            # 给这个行开辟一个新的列，列名是traj_id，列的值是user+小组的序号\n",
    "            row[\"trajectory_id\"] = str(name) + \"_\" + str(traj_id)\n",
    "            # 小组的序号加一\n",
    "            traj_id += 1\n",
    "        # 否则，给这个行开辟一个新的列，列名是traj_id，列的值和上一行相同\n",
    "        else:\n",
    "            row[\"trajectory_id\"] = result[-1][\"trajectory_id\"]\n",
    "        # 把这个行添加到结果列表中\n",
    "        result.append(row)\n",
    "        # 更新上一个时间戳\n",
    "        prev_timestamp = curr_timestamp\n",
    "\n",
    "# 把结果列表转换成pandas数据框\n",
    "result_df = pd.DataFrame(result)\n",
    "\n",
    "# 打印结果数据框\n",
    "print(result_df)\n",
    "\n"
   ],
   "metadata": {
    "collapsed": false
   }
  },
  {
   "cell_type": "code",
   "execution_count": 21,
   "outputs": [
    {
     "data": {
      "text/plain": "(1083, 8446)"
     },
     "execution_count": 21,
     "metadata": {},
     "output_type": "execute_result"
    }
   ],
   "source": [
    "len(result_df['user_id'].unique()),len(result_df['POI_id'].unique())"
   ],
   "metadata": {
    "collapsed": false
   }
  },
  {
   "cell_type": "code",
   "execution_count": 22,
   "outputs": [
    {
     "data": {
      "text/plain": "       user_id                    POI_id                 POI_catid  \\\n3660         1  4d4ac10da0ef54814b6ffff6  4bf58dd8d48988d157941735   \n5603         1  4db44994cda1c57c82583709  4bf58dd8d48988d1f1931735   \n5783         1  4a541923f964a52008b31fe3  4bf58dd8d48988d14e941735   \n6696         1  40f1d480f964a5205b0a1fe3  4bf58dd8d48988d143941735   \n7666         1  3fd66200f964a52094e41ee3  4bf58dd8d48988d1cc941735   \n11804        1  49d2b43ef964a520cb5b1fe3  4bf58dd8d48988d1e0931735   \n14856        1  46ea2358f964a520cf4a1fe3  4bf58dd8d48988d11d941735   \n15082        1  4d081fb700e6b1f7d4060cd7  4bf58dd8d48988d113941735   \n15249        1  40fb0f00f964a520d90a1fe3  4bf58dd8d48988d11b941735   \n15947        1  428d2880f964a520b5231fe3  4bf58dd8d48988d1fa931735   \n\n                poi_cat_name   latitude  longitude  timezone  \\\n3660     American Restaurant  40.784018 -73.974524      -240   \n5603   General Entertainment  40.739398 -73.993210      -240   \n5783     American Restaurant  40.785677 -73.976498      -240   \n6696          Breakfast Spot  40.719929 -74.008532      -240   \n7666              Steakhouse  40.734276 -73.993525      -240   \n11804            Coffee Shop  40.720087 -74.003961      -240   \n14856                    Bar  40.760667 -73.994948      -240   \n15082      Korean Restaurant  40.764104 -73.986725      -240   \n15249                    Bar  40.760645 -73.986065      -240   \n15947                  Hotel  40.756731 -73.974070      -240   \n\n                             UTC_time  norm_in_day_time     timestamp  \\\n3660   Sat Apr 07 17:42:24 +0000 2012              0.57  1.333821e+09   \n5603   Sun Apr 08 18:20:29 +0000 2012              0.60  1.333909e+09   \n5783   Sun Apr 08 20:02:10 +0000 2012              0.67  1.333915e+09   \n6696   Mon Apr 09 16:20:52 +0000 2012              0.51  1.333988e+09   \n7666   Tue Apr 10 00:24:31 +0000 2012              0.85  1.334017e+09   \n11804  Thu Apr 12 17:19:21 +0000 2012              0.55  1.334251e+09   \n14856  Sat Apr 14 01:11:20 +0000 2012              0.88  1.334366e+09   \n15082  Sat Apr 14 03:07:56 +0000 2012              0.96  1.334373e+09   \n15249  Sat Apr 14 04:45:13 +0000 2012              0.03  1.334379e+09   \n15947  Sat Apr 14 17:45:23 +0000 2012              0.57  1.334426e+09   \n\n      trajectory_id  \n3660            1_1  \n5603            1_2  \n5783            1_2  \n6696            1_2  \n7666            1_2  \n11804           1_3  \n14856           1_4  \n15082           1_4  \n15249           1_4  \n15947           1_4  ",
      "text/html": "<div>\n<style scoped>\n    .dataframe tbody tr th:only-of-type {\n        vertical-align: middle;\n    }\n\n    .dataframe tbody tr th {\n        vertical-align: top;\n    }\n\n    .dataframe thead th {\n        text-align: right;\n    }\n</style>\n<table border=\"1\" class=\"dataframe\">\n  <thead>\n    <tr style=\"text-align: right;\">\n      <th></th>\n      <th>user_id</th>\n      <th>POI_id</th>\n      <th>POI_catid</th>\n      <th>poi_cat_name</th>\n      <th>latitude</th>\n      <th>longitude</th>\n      <th>timezone</th>\n      <th>UTC_time</th>\n      <th>norm_in_day_time</th>\n      <th>timestamp</th>\n      <th>trajectory_id</th>\n    </tr>\n  </thead>\n  <tbody>\n    <tr>\n      <th>3660</th>\n      <td>1</td>\n      <td>4d4ac10da0ef54814b6ffff6</td>\n      <td>4bf58dd8d48988d157941735</td>\n      <td>American Restaurant</td>\n      <td>40.784018</td>\n      <td>-73.974524</td>\n      <td>-240</td>\n      <td>Sat Apr 07 17:42:24 +0000 2012</td>\n      <td>0.57</td>\n      <td>1.333821e+09</td>\n      <td>1_1</td>\n    </tr>\n    <tr>\n      <th>5603</th>\n      <td>1</td>\n      <td>4db44994cda1c57c82583709</td>\n      <td>4bf58dd8d48988d1f1931735</td>\n      <td>General Entertainment</td>\n      <td>40.739398</td>\n      <td>-73.993210</td>\n      <td>-240</td>\n      <td>Sun Apr 08 18:20:29 +0000 2012</td>\n      <td>0.60</td>\n      <td>1.333909e+09</td>\n      <td>1_2</td>\n    </tr>\n    <tr>\n      <th>5783</th>\n      <td>1</td>\n      <td>4a541923f964a52008b31fe3</td>\n      <td>4bf58dd8d48988d14e941735</td>\n      <td>American Restaurant</td>\n      <td>40.785677</td>\n      <td>-73.976498</td>\n      <td>-240</td>\n      <td>Sun Apr 08 20:02:10 +0000 2012</td>\n      <td>0.67</td>\n      <td>1.333915e+09</td>\n      <td>1_2</td>\n    </tr>\n    <tr>\n      <th>6696</th>\n      <td>1</td>\n      <td>40f1d480f964a5205b0a1fe3</td>\n      <td>4bf58dd8d48988d143941735</td>\n      <td>Breakfast Spot</td>\n      <td>40.719929</td>\n      <td>-74.008532</td>\n      <td>-240</td>\n      <td>Mon Apr 09 16:20:52 +0000 2012</td>\n      <td>0.51</td>\n      <td>1.333988e+09</td>\n      <td>1_2</td>\n    </tr>\n    <tr>\n      <th>7666</th>\n      <td>1</td>\n      <td>3fd66200f964a52094e41ee3</td>\n      <td>4bf58dd8d48988d1cc941735</td>\n      <td>Steakhouse</td>\n      <td>40.734276</td>\n      <td>-73.993525</td>\n      <td>-240</td>\n      <td>Tue Apr 10 00:24:31 +0000 2012</td>\n      <td>0.85</td>\n      <td>1.334017e+09</td>\n      <td>1_2</td>\n    </tr>\n    <tr>\n      <th>11804</th>\n      <td>1</td>\n      <td>49d2b43ef964a520cb5b1fe3</td>\n      <td>4bf58dd8d48988d1e0931735</td>\n      <td>Coffee Shop</td>\n      <td>40.720087</td>\n      <td>-74.003961</td>\n      <td>-240</td>\n      <td>Thu Apr 12 17:19:21 +0000 2012</td>\n      <td>0.55</td>\n      <td>1.334251e+09</td>\n      <td>1_3</td>\n    </tr>\n    <tr>\n      <th>14856</th>\n      <td>1</td>\n      <td>46ea2358f964a520cf4a1fe3</td>\n      <td>4bf58dd8d48988d11d941735</td>\n      <td>Bar</td>\n      <td>40.760667</td>\n      <td>-73.994948</td>\n      <td>-240</td>\n      <td>Sat Apr 14 01:11:20 +0000 2012</td>\n      <td>0.88</td>\n      <td>1.334366e+09</td>\n      <td>1_4</td>\n    </tr>\n    <tr>\n      <th>15082</th>\n      <td>1</td>\n      <td>4d081fb700e6b1f7d4060cd7</td>\n      <td>4bf58dd8d48988d113941735</td>\n      <td>Korean Restaurant</td>\n      <td>40.764104</td>\n      <td>-73.986725</td>\n      <td>-240</td>\n      <td>Sat Apr 14 03:07:56 +0000 2012</td>\n      <td>0.96</td>\n      <td>1.334373e+09</td>\n      <td>1_4</td>\n    </tr>\n    <tr>\n      <th>15249</th>\n      <td>1</td>\n      <td>40fb0f00f964a520d90a1fe3</td>\n      <td>4bf58dd8d48988d11b941735</td>\n      <td>Bar</td>\n      <td>40.760645</td>\n      <td>-73.986065</td>\n      <td>-240</td>\n      <td>Sat Apr 14 04:45:13 +0000 2012</td>\n      <td>0.03</td>\n      <td>1.334379e+09</td>\n      <td>1_4</td>\n    </tr>\n    <tr>\n      <th>15947</th>\n      <td>1</td>\n      <td>428d2880f964a520b5231fe3</td>\n      <td>4bf58dd8d48988d1fa931735</td>\n      <td>Hotel</td>\n      <td>40.756731</td>\n      <td>-73.974070</td>\n      <td>-240</td>\n      <td>Sat Apr 14 17:45:23 +0000 2012</td>\n      <td>0.57</td>\n      <td>1.334426e+09</td>\n      <td>1_4</td>\n    </tr>\n  </tbody>\n</table>\n</div>"
     },
     "execution_count": 22,
     "metadata": {},
     "output_type": "execute_result"
    }
   ],
   "source": [
    "result_df.head(10)"
   ],
   "metadata": {
    "collapsed": false
   }
  },
  {
   "cell_type": "code",
   "execution_count": 23,
   "outputs": [],
   "source": [
    "result_df['POI_catid_code']=result_df['POI_catid']"
   ],
   "metadata": {
    "collapsed": false
   }
  },
  {
   "cell_type": "code",
   "execution_count": 13,
   "outputs": [
    {
     "data": {
      "text/plain": "       user_id                    POI_id                 POI_catid  \\\n2454         1  4abc1f51f964a520798620e3  4bf58dd8d48988d1ce941735   \n3660         1  4d4ac10da0ef54814b6ffff6  4bf58dd8d48988d157941735   \n5603         1  4db44994cda1c57c82583709  4bf58dd8d48988d1f1931735   \n5783         1  4a541923f964a52008b31fe3  4bf58dd8d48988d14e941735   \n6696         1  40f1d480f964a5205b0a1fe3  4bf58dd8d48988d143941735   \n7666         1  3fd66200f964a52094e41ee3  4bf58dd8d48988d1cc941735   \n8312         1  4f3283f0e4b057434d8fdc81  4bf58dd8d48988d1c1941735   \n11804        1  49d2b43ef964a520cb5b1fe3  4bf58dd8d48988d1e0931735   \n13737        1  4f3283f0e4b057434d8fdc81  4bf58dd8d48988d1c1941735   \n14856        1  46ea2358f964a520cf4a1fe3  4bf58dd8d48988d11d941735   \n\n                poi_cat_name   latitude  longitude  timezone  \\\n2454      Seafood Restaurant  40.781558 -73.975792      -240   \n3660     American Restaurant  40.784018 -73.974524      -240   \n5603   General Entertainment  40.739398 -73.993210      -240   \n5783     American Restaurant  40.785677 -73.976498      -240   \n6696          Breakfast Spot  40.719929 -74.008532      -240   \n7666              Steakhouse  40.734276 -73.993525      -240   \n8312      Mexican Restaurant  40.717888 -74.005668      -240   \n11804            Coffee Shop  40.720087 -74.003961      -240   \n13737     Mexican Restaurant  40.717888 -74.005668      -240   \n14856                    Bar  40.760667 -73.994948      -240   \n\n                             UTC_time     timestamp trajectory_id  \\\n2454   Wed Apr 04 23:31:31 +0000 2012  1.333582e+09           1_1   \n3660   Sat Apr 07 17:42:24 +0000 2012  1.333821e+09           1_2   \n5603   Sun Apr 08 18:20:29 +0000 2012  1.333909e+09           1_3   \n5783   Sun Apr 08 20:02:10 +0000 2012  1.333915e+09           1_3   \n6696   Mon Apr 09 16:20:52 +0000 2012  1.333988e+09           1_3   \n7666   Tue Apr 10 00:24:31 +0000 2012  1.334017e+09           1_3   \n8312   Tue Apr 10 16:21:48 +0000 2012  1.334075e+09           1_3   \n11804  Thu Apr 12 17:19:21 +0000 2012  1.334251e+09           1_4   \n13737  Fri Apr 13 15:41:41 +0000 2012  1.334332e+09           1_4   \n14856  Sat Apr 14 01:11:20 +0000 2012  1.334366e+09           1_4   \n\n                 POI_catid_code  \n2454   4bf58dd8d48988d1ce941735  \n3660   4bf58dd8d48988d157941735  \n5603   4bf58dd8d48988d1f1931735  \n5783   4bf58dd8d48988d14e941735  \n6696   4bf58dd8d48988d143941735  \n7666   4bf58dd8d48988d1cc941735  \n8312   4bf58dd8d48988d1c1941735  \n11804  4bf58dd8d48988d1e0931735  \n13737  4bf58dd8d48988d1c1941735  \n14856  4bf58dd8d48988d11d941735  ",
      "text/html": "<div>\n<style scoped>\n    .dataframe tbody tr th:only-of-type {\n        vertical-align: middle;\n    }\n\n    .dataframe tbody tr th {\n        vertical-align: top;\n    }\n\n    .dataframe thead th {\n        text-align: right;\n    }\n</style>\n<table border=\"1\" class=\"dataframe\">\n  <thead>\n    <tr style=\"text-align: right;\">\n      <th></th>\n      <th>user_id</th>\n      <th>POI_id</th>\n      <th>POI_catid</th>\n      <th>poi_cat_name</th>\n      <th>latitude</th>\n      <th>longitude</th>\n      <th>timezone</th>\n      <th>UTC_time</th>\n      <th>timestamp</th>\n      <th>trajectory_id</th>\n      <th>POI_catid_code</th>\n    </tr>\n  </thead>\n  <tbody>\n    <tr>\n      <th>2454</th>\n      <td>1</td>\n      <td>4abc1f51f964a520798620e3</td>\n      <td>4bf58dd8d48988d1ce941735</td>\n      <td>Seafood Restaurant</td>\n      <td>40.781558</td>\n      <td>-73.975792</td>\n      <td>-240</td>\n      <td>Wed Apr 04 23:31:31 +0000 2012</td>\n      <td>1.333582e+09</td>\n      <td>1_1</td>\n      <td>4bf58dd8d48988d1ce941735</td>\n    </tr>\n    <tr>\n      <th>3660</th>\n      <td>1</td>\n      <td>4d4ac10da0ef54814b6ffff6</td>\n      <td>4bf58dd8d48988d157941735</td>\n      <td>American Restaurant</td>\n      <td>40.784018</td>\n      <td>-73.974524</td>\n      <td>-240</td>\n      <td>Sat Apr 07 17:42:24 +0000 2012</td>\n      <td>1.333821e+09</td>\n      <td>1_2</td>\n      <td>4bf58dd8d48988d157941735</td>\n    </tr>\n    <tr>\n      <th>5603</th>\n      <td>1</td>\n      <td>4db44994cda1c57c82583709</td>\n      <td>4bf58dd8d48988d1f1931735</td>\n      <td>General Entertainment</td>\n      <td>40.739398</td>\n      <td>-73.993210</td>\n      <td>-240</td>\n      <td>Sun Apr 08 18:20:29 +0000 2012</td>\n      <td>1.333909e+09</td>\n      <td>1_3</td>\n      <td>4bf58dd8d48988d1f1931735</td>\n    </tr>\n    <tr>\n      <th>5783</th>\n      <td>1</td>\n      <td>4a541923f964a52008b31fe3</td>\n      <td>4bf58dd8d48988d14e941735</td>\n      <td>American Restaurant</td>\n      <td>40.785677</td>\n      <td>-73.976498</td>\n      <td>-240</td>\n      <td>Sun Apr 08 20:02:10 +0000 2012</td>\n      <td>1.333915e+09</td>\n      <td>1_3</td>\n      <td>4bf58dd8d48988d14e941735</td>\n    </tr>\n    <tr>\n      <th>6696</th>\n      <td>1</td>\n      <td>40f1d480f964a5205b0a1fe3</td>\n      <td>4bf58dd8d48988d143941735</td>\n      <td>Breakfast Spot</td>\n      <td>40.719929</td>\n      <td>-74.008532</td>\n      <td>-240</td>\n      <td>Mon Apr 09 16:20:52 +0000 2012</td>\n      <td>1.333988e+09</td>\n      <td>1_3</td>\n      <td>4bf58dd8d48988d143941735</td>\n    </tr>\n    <tr>\n      <th>7666</th>\n      <td>1</td>\n      <td>3fd66200f964a52094e41ee3</td>\n      <td>4bf58dd8d48988d1cc941735</td>\n      <td>Steakhouse</td>\n      <td>40.734276</td>\n      <td>-73.993525</td>\n      <td>-240</td>\n      <td>Tue Apr 10 00:24:31 +0000 2012</td>\n      <td>1.334017e+09</td>\n      <td>1_3</td>\n      <td>4bf58dd8d48988d1cc941735</td>\n    </tr>\n    <tr>\n      <th>8312</th>\n      <td>1</td>\n      <td>4f3283f0e4b057434d8fdc81</td>\n      <td>4bf58dd8d48988d1c1941735</td>\n      <td>Mexican Restaurant</td>\n      <td>40.717888</td>\n      <td>-74.005668</td>\n      <td>-240</td>\n      <td>Tue Apr 10 16:21:48 +0000 2012</td>\n      <td>1.334075e+09</td>\n      <td>1_3</td>\n      <td>4bf58dd8d48988d1c1941735</td>\n    </tr>\n    <tr>\n      <th>11804</th>\n      <td>1</td>\n      <td>49d2b43ef964a520cb5b1fe3</td>\n      <td>4bf58dd8d48988d1e0931735</td>\n      <td>Coffee Shop</td>\n      <td>40.720087</td>\n      <td>-74.003961</td>\n      <td>-240</td>\n      <td>Thu Apr 12 17:19:21 +0000 2012</td>\n      <td>1.334251e+09</td>\n      <td>1_4</td>\n      <td>4bf58dd8d48988d1e0931735</td>\n    </tr>\n    <tr>\n      <th>13737</th>\n      <td>1</td>\n      <td>4f3283f0e4b057434d8fdc81</td>\n      <td>4bf58dd8d48988d1c1941735</td>\n      <td>Mexican Restaurant</td>\n      <td>40.717888</td>\n      <td>-74.005668</td>\n      <td>-240</td>\n      <td>Fri Apr 13 15:41:41 +0000 2012</td>\n      <td>1.334332e+09</td>\n      <td>1_4</td>\n      <td>4bf58dd8d48988d1c1941735</td>\n    </tr>\n    <tr>\n      <th>14856</th>\n      <td>1</td>\n      <td>46ea2358f964a520cf4a1fe3</td>\n      <td>4bf58dd8d48988d11d941735</td>\n      <td>Bar</td>\n      <td>40.760667</td>\n      <td>-73.994948</td>\n      <td>-240</td>\n      <td>Sat Apr 14 01:11:20 +0000 2012</td>\n      <td>1.334366e+09</td>\n      <td>1_4</td>\n      <td>4bf58dd8d48988d11d941735</td>\n    </tr>\n  </tbody>\n</table>\n</div>"
     },
     "execution_count": 13,
     "metadata": {},
     "output_type": "execute_result"
    }
   ],
   "source": [
    "result_df.head(10)"
   ],
   "metadata": {
    "collapsed": false
   }
  },
  {
   "cell_type": "code",
   "execution_count": 24,
   "outputs": [],
   "source": [
    "# 假设你想要将Venue ID (Foursquare)列的列名改成venue_id\n",
    "result_df = result_df.rename(columns={\"poi_cat_name\": \"POI_catname\"})\n"
   ],
   "metadata": {
    "collapsed": false
   }
  },
  {
   "cell_type": "code",
   "execution_count": 6,
   "outputs": [
    {
     "data": {
      "text/plain": "       user_id                    POI_id                 POI_catid  \\\n2454         1  4abc1f51f964a520798620e3  4bf58dd8d48988d1ce941735   \n3660         1  4d4ac10da0ef54814b6ffff6  4bf58dd8d48988d157941735   \n5603         1  4db44994cda1c57c82583709  4bf58dd8d48988d1f1931735   \n5783         1  4a541923f964a52008b31fe3  4bf58dd8d48988d14e941735   \n6696         1  40f1d480f964a5205b0a1fe3  4bf58dd8d48988d143941735   \n7666         1  3fd66200f964a52094e41ee3  4bf58dd8d48988d1cc941735   \n7906         1  42586c80f964a520db201fe3  4bf58dd8d48988d121941735   \n8312         1  4f3283f0e4b057434d8fdc81  4bf58dd8d48988d1c1941735   \n11804        1  49d2b43ef964a520cb5b1fe3  4bf58dd8d48988d1e0931735   \n13737        1  4f3283f0e4b057434d8fdc81  4bf58dd8d48988d1c1941735   \n\n                 POI_catname   latitude  longitude  timezone  \\\n2454      Seafood Restaurant  40.781558 -73.975792      -240   \n3660     American Restaurant  40.784018 -73.974524      -240   \n5603   General Entertainment  40.739398 -73.993210      -240   \n5783     American Restaurant  40.785677 -73.976498      -240   \n6696          Breakfast Spot  40.719929 -74.008532      -240   \n7666              Steakhouse  40.734276 -73.993525      -240   \n7906                     Bar  40.775986 -73.979528      -240   \n8312      Mexican Restaurant  40.717888 -74.005668      -240   \n11804            Coffee Shop  40.720087 -74.003961      -240   \n13737     Mexican Restaurant  40.717888 -74.005668      -240   \n\n                             UTC_time     timestamp trajectory_id  \\\n2454   Wed Apr 04 23:31:31 +0000 2012  1.333582e+09           1_1   \n3660   Sat Apr 07 17:42:24 +0000 2012  1.333821e+09           1_2   \n5603   Sun Apr 08 18:20:29 +0000 2012  1.333909e+09           1_3   \n5783   Sun Apr 08 20:02:10 +0000 2012  1.333915e+09           1_3   \n6696   Mon Apr 09 16:20:52 +0000 2012  1.333988e+09           1_3   \n7666   Tue Apr 10 00:24:31 +0000 2012  1.334017e+09           1_3   \n7906   Tue Apr 10 03:36:56 +0000 2012  1.334029e+09           1_3   \n8312   Tue Apr 10 16:21:48 +0000 2012  1.334075e+09           1_3   \n11804  Thu Apr 12 17:19:21 +0000 2012  1.334251e+09           1_4   \n13737  Fri Apr 13 15:41:41 +0000 2012  1.334332e+09           1_4   \n\n                 POI_catid_code  \n2454   4bf58dd8d48988d1ce941735  \n3660   4bf58dd8d48988d157941735  \n5603   4bf58dd8d48988d1f1931735  \n5783   4bf58dd8d48988d14e941735  \n6696   4bf58dd8d48988d143941735  \n7666   4bf58dd8d48988d1cc941735  \n7906   4bf58dd8d48988d121941735  \n8312   4bf58dd8d48988d1c1941735  \n11804  4bf58dd8d48988d1e0931735  \n13737  4bf58dd8d48988d1c1941735  ",
      "text/html": "<div>\n<style scoped>\n    .dataframe tbody tr th:only-of-type {\n        vertical-align: middle;\n    }\n\n    .dataframe tbody tr th {\n        vertical-align: top;\n    }\n\n    .dataframe thead th {\n        text-align: right;\n    }\n</style>\n<table border=\"1\" class=\"dataframe\">\n  <thead>\n    <tr style=\"text-align: right;\">\n      <th></th>\n      <th>user_id</th>\n      <th>POI_id</th>\n      <th>POI_catid</th>\n      <th>POI_catname</th>\n      <th>latitude</th>\n      <th>longitude</th>\n      <th>timezone</th>\n      <th>UTC_time</th>\n      <th>timestamp</th>\n      <th>trajectory_id</th>\n      <th>POI_catid_code</th>\n    </tr>\n  </thead>\n  <tbody>\n    <tr>\n      <th>2454</th>\n      <td>1</td>\n      <td>4abc1f51f964a520798620e3</td>\n      <td>4bf58dd8d48988d1ce941735</td>\n      <td>Seafood Restaurant</td>\n      <td>40.781558</td>\n      <td>-73.975792</td>\n      <td>-240</td>\n      <td>Wed Apr 04 23:31:31 +0000 2012</td>\n      <td>1.333582e+09</td>\n      <td>1_1</td>\n      <td>4bf58dd8d48988d1ce941735</td>\n    </tr>\n    <tr>\n      <th>3660</th>\n      <td>1</td>\n      <td>4d4ac10da0ef54814b6ffff6</td>\n      <td>4bf58dd8d48988d157941735</td>\n      <td>American Restaurant</td>\n      <td>40.784018</td>\n      <td>-73.974524</td>\n      <td>-240</td>\n      <td>Sat Apr 07 17:42:24 +0000 2012</td>\n      <td>1.333821e+09</td>\n      <td>1_2</td>\n      <td>4bf58dd8d48988d157941735</td>\n    </tr>\n    <tr>\n      <th>5603</th>\n      <td>1</td>\n      <td>4db44994cda1c57c82583709</td>\n      <td>4bf58dd8d48988d1f1931735</td>\n      <td>General Entertainment</td>\n      <td>40.739398</td>\n      <td>-73.993210</td>\n      <td>-240</td>\n      <td>Sun Apr 08 18:20:29 +0000 2012</td>\n      <td>1.333909e+09</td>\n      <td>1_3</td>\n      <td>4bf58dd8d48988d1f1931735</td>\n    </tr>\n    <tr>\n      <th>5783</th>\n      <td>1</td>\n      <td>4a541923f964a52008b31fe3</td>\n      <td>4bf58dd8d48988d14e941735</td>\n      <td>American Restaurant</td>\n      <td>40.785677</td>\n      <td>-73.976498</td>\n      <td>-240</td>\n      <td>Sun Apr 08 20:02:10 +0000 2012</td>\n      <td>1.333915e+09</td>\n      <td>1_3</td>\n      <td>4bf58dd8d48988d14e941735</td>\n    </tr>\n    <tr>\n      <th>6696</th>\n      <td>1</td>\n      <td>40f1d480f964a5205b0a1fe3</td>\n      <td>4bf58dd8d48988d143941735</td>\n      <td>Breakfast Spot</td>\n      <td>40.719929</td>\n      <td>-74.008532</td>\n      <td>-240</td>\n      <td>Mon Apr 09 16:20:52 +0000 2012</td>\n      <td>1.333988e+09</td>\n      <td>1_3</td>\n      <td>4bf58dd8d48988d143941735</td>\n    </tr>\n    <tr>\n      <th>7666</th>\n      <td>1</td>\n      <td>3fd66200f964a52094e41ee3</td>\n      <td>4bf58dd8d48988d1cc941735</td>\n      <td>Steakhouse</td>\n      <td>40.734276</td>\n      <td>-73.993525</td>\n      <td>-240</td>\n      <td>Tue Apr 10 00:24:31 +0000 2012</td>\n      <td>1.334017e+09</td>\n      <td>1_3</td>\n      <td>4bf58dd8d48988d1cc941735</td>\n    </tr>\n    <tr>\n      <th>7906</th>\n      <td>1</td>\n      <td>42586c80f964a520db201fe3</td>\n      <td>4bf58dd8d48988d121941735</td>\n      <td>Bar</td>\n      <td>40.775986</td>\n      <td>-73.979528</td>\n      <td>-240</td>\n      <td>Tue Apr 10 03:36:56 +0000 2012</td>\n      <td>1.334029e+09</td>\n      <td>1_3</td>\n      <td>4bf58dd8d48988d121941735</td>\n    </tr>\n    <tr>\n      <th>8312</th>\n      <td>1</td>\n      <td>4f3283f0e4b057434d8fdc81</td>\n      <td>4bf58dd8d48988d1c1941735</td>\n      <td>Mexican Restaurant</td>\n      <td>40.717888</td>\n      <td>-74.005668</td>\n      <td>-240</td>\n      <td>Tue Apr 10 16:21:48 +0000 2012</td>\n      <td>1.334075e+09</td>\n      <td>1_3</td>\n      <td>4bf58dd8d48988d1c1941735</td>\n    </tr>\n    <tr>\n      <th>11804</th>\n      <td>1</td>\n      <td>49d2b43ef964a520cb5b1fe3</td>\n      <td>4bf58dd8d48988d1e0931735</td>\n      <td>Coffee Shop</td>\n      <td>40.720087</td>\n      <td>-74.003961</td>\n      <td>-240</td>\n      <td>Thu Apr 12 17:19:21 +0000 2012</td>\n      <td>1.334251e+09</td>\n      <td>1_4</td>\n      <td>4bf58dd8d48988d1e0931735</td>\n    </tr>\n    <tr>\n      <th>13737</th>\n      <td>1</td>\n      <td>4f3283f0e4b057434d8fdc81</td>\n      <td>4bf58dd8d48988d1c1941735</td>\n      <td>Mexican Restaurant</td>\n      <td>40.717888</td>\n      <td>-74.005668</td>\n      <td>-240</td>\n      <td>Fri Apr 13 15:41:41 +0000 2012</td>\n      <td>1.334332e+09</td>\n      <td>1_4</td>\n      <td>4bf58dd8d48988d1c1941735</td>\n    </tr>\n  </tbody>\n</table>\n</div>"
     },
     "execution_count": 6,
     "metadata": {},
     "output_type": "execute_result"
    }
   ],
   "source": [
    "result_df.head(10)"
   ],
   "metadata": {
    "collapsed": false
   }
  },
  {
   "cell_type": "code",
   "execution_count": 25,
   "outputs": [],
   "source": [
    "# 获取traj_id列的唯一值\n",
    "traj_ids = result_df[\"trajectory_id\"].unique()\n",
    "\n",
    "# 随机选择80%的traj_id作为训练集的标识\n",
    "traj_ids = pd.Series(traj_ids)\n",
    "train_ids = traj_ids.sample(frac=0.8, random_state=0)\n",
    "\n",
    "# 根据traj_id筛选训练集和测试集\n",
    "train_df = result_df[result_df[\"trajectory_id\"].isin(train_ids)]\n",
    "test_df = result_df[~result_df[\"trajectory_id\"].isin(train_ids)]\n"
   ],
   "metadata": {
    "collapsed": false
   }
  },
  {
   "cell_type": "code",
   "execution_count": 11,
   "outputs": [
    {
     "data": {
      "text/plain": "       user_id                    POI_id                 POI_catid  \\\n2454         1  4abc1f51f964a520798620e3  4bf58dd8d48988d1ce941735   \n3660         1  4d4ac10da0ef54814b6ffff6  4bf58dd8d48988d157941735   \n5603         1  4db44994cda1c57c82583709  4bf58dd8d48988d1f1931735   \n5783         1  4a541923f964a52008b31fe3  4bf58dd8d48988d14e941735   \n6696         1  40f1d480f964a5205b0a1fe3  4bf58dd8d48988d143941735   \n7666         1  3fd66200f964a52094e41ee3  4bf58dd8d48988d1cc941735   \n7906         1  42586c80f964a520db201fe3  4bf58dd8d48988d121941735   \n8312         1  4f3283f0e4b057434d8fdc81  4bf58dd8d48988d1c1941735   \n11804        1  49d2b43ef964a520cb5b1fe3  4bf58dd8d48988d1e0931735   \n13737        1  4f3283f0e4b057434d8fdc81  4bf58dd8d48988d1c1941735   \n\n                 POI_catname   latitude  longitude  timezone  \\\n2454      Seafood Restaurant  40.781558 -73.975792      -240   \n3660     American Restaurant  40.784018 -73.974524      -240   \n5603   General Entertainment  40.739398 -73.993210      -240   \n5783     American Restaurant  40.785677 -73.976498      -240   \n6696          Breakfast Spot  40.719929 -74.008532      -240   \n7666              Steakhouse  40.734276 -73.993525      -240   \n7906                     Bar  40.775986 -73.979528      -240   \n8312      Mexican Restaurant  40.717888 -74.005668      -240   \n11804            Coffee Shop  40.720087 -74.003961      -240   \n13737     Mexican Restaurant  40.717888 -74.005668      -240   \n\n                             UTC_time     timestamp trajectory_id  \\\n2454   Wed Apr 04 23:31:31 +0000 2012  1.333582e+09           1_1   \n3660   Sat Apr 07 17:42:24 +0000 2012  1.333821e+09           1_2   \n5603   Sun Apr 08 18:20:29 +0000 2012  1.333909e+09           1_3   \n5783   Sun Apr 08 20:02:10 +0000 2012  1.333915e+09           1_3   \n6696   Mon Apr 09 16:20:52 +0000 2012  1.333988e+09           1_3   \n7666   Tue Apr 10 00:24:31 +0000 2012  1.334017e+09           1_3   \n7906   Tue Apr 10 03:36:56 +0000 2012  1.334029e+09           1_3   \n8312   Tue Apr 10 16:21:48 +0000 2012  1.334075e+09           1_3   \n11804  Thu Apr 12 17:19:21 +0000 2012  1.334251e+09           1_4   \n13737  Fri Apr 13 15:41:41 +0000 2012  1.334332e+09           1_4   \n\n                 POI_catid_code  \n2454   4bf58dd8d48988d1ce941735  \n3660   4bf58dd8d48988d157941735  \n5603   4bf58dd8d48988d1f1931735  \n5783   4bf58dd8d48988d14e941735  \n6696   4bf58dd8d48988d143941735  \n7666   4bf58dd8d48988d1cc941735  \n7906   4bf58dd8d48988d121941735  \n8312   4bf58dd8d48988d1c1941735  \n11804  4bf58dd8d48988d1e0931735  \n13737  4bf58dd8d48988d1c1941735  ",
      "text/html": "<div>\n<style scoped>\n    .dataframe tbody tr th:only-of-type {\n        vertical-align: middle;\n    }\n\n    .dataframe tbody tr th {\n        vertical-align: top;\n    }\n\n    .dataframe thead th {\n        text-align: right;\n    }\n</style>\n<table border=\"1\" class=\"dataframe\">\n  <thead>\n    <tr style=\"text-align: right;\">\n      <th></th>\n      <th>user_id</th>\n      <th>POI_id</th>\n      <th>POI_catid</th>\n      <th>POI_catname</th>\n      <th>latitude</th>\n      <th>longitude</th>\n      <th>timezone</th>\n      <th>UTC_time</th>\n      <th>timestamp</th>\n      <th>trajectory_id</th>\n      <th>POI_catid_code</th>\n    </tr>\n  </thead>\n  <tbody>\n    <tr>\n      <th>2454</th>\n      <td>1</td>\n      <td>4abc1f51f964a520798620e3</td>\n      <td>4bf58dd8d48988d1ce941735</td>\n      <td>Seafood Restaurant</td>\n      <td>40.781558</td>\n      <td>-73.975792</td>\n      <td>-240</td>\n      <td>Wed Apr 04 23:31:31 +0000 2012</td>\n      <td>1.333582e+09</td>\n      <td>1_1</td>\n      <td>4bf58dd8d48988d1ce941735</td>\n    </tr>\n    <tr>\n      <th>3660</th>\n      <td>1</td>\n      <td>4d4ac10da0ef54814b6ffff6</td>\n      <td>4bf58dd8d48988d157941735</td>\n      <td>American Restaurant</td>\n      <td>40.784018</td>\n      <td>-73.974524</td>\n      <td>-240</td>\n      <td>Sat Apr 07 17:42:24 +0000 2012</td>\n      <td>1.333821e+09</td>\n      <td>1_2</td>\n      <td>4bf58dd8d48988d157941735</td>\n    </tr>\n    <tr>\n      <th>5603</th>\n      <td>1</td>\n      <td>4db44994cda1c57c82583709</td>\n      <td>4bf58dd8d48988d1f1931735</td>\n      <td>General Entertainment</td>\n      <td>40.739398</td>\n      <td>-73.993210</td>\n      <td>-240</td>\n      <td>Sun Apr 08 18:20:29 +0000 2012</td>\n      <td>1.333909e+09</td>\n      <td>1_3</td>\n      <td>4bf58dd8d48988d1f1931735</td>\n    </tr>\n    <tr>\n      <th>5783</th>\n      <td>1</td>\n      <td>4a541923f964a52008b31fe3</td>\n      <td>4bf58dd8d48988d14e941735</td>\n      <td>American Restaurant</td>\n      <td>40.785677</td>\n      <td>-73.976498</td>\n      <td>-240</td>\n      <td>Sun Apr 08 20:02:10 +0000 2012</td>\n      <td>1.333915e+09</td>\n      <td>1_3</td>\n      <td>4bf58dd8d48988d14e941735</td>\n    </tr>\n    <tr>\n      <th>6696</th>\n      <td>1</td>\n      <td>40f1d480f964a5205b0a1fe3</td>\n      <td>4bf58dd8d48988d143941735</td>\n      <td>Breakfast Spot</td>\n      <td>40.719929</td>\n      <td>-74.008532</td>\n      <td>-240</td>\n      <td>Mon Apr 09 16:20:52 +0000 2012</td>\n      <td>1.333988e+09</td>\n      <td>1_3</td>\n      <td>4bf58dd8d48988d143941735</td>\n    </tr>\n    <tr>\n      <th>7666</th>\n      <td>1</td>\n      <td>3fd66200f964a52094e41ee3</td>\n      <td>4bf58dd8d48988d1cc941735</td>\n      <td>Steakhouse</td>\n      <td>40.734276</td>\n      <td>-73.993525</td>\n      <td>-240</td>\n      <td>Tue Apr 10 00:24:31 +0000 2012</td>\n      <td>1.334017e+09</td>\n      <td>1_3</td>\n      <td>4bf58dd8d48988d1cc941735</td>\n    </tr>\n    <tr>\n      <th>7906</th>\n      <td>1</td>\n      <td>42586c80f964a520db201fe3</td>\n      <td>4bf58dd8d48988d121941735</td>\n      <td>Bar</td>\n      <td>40.775986</td>\n      <td>-73.979528</td>\n      <td>-240</td>\n      <td>Tue Apr 10 03:36:56 +0000 2012</td>\n      <td>1.334029e+09</td>\n      <td>1_3</td>\n      <td>4bf58dd8d48988d121941735</td>\n    </tr>\n    <tr>\n      <th>8312</th>\n      <td>1</td>\n      <td>4f3283f0e4b057434d8fdc81</td>\n      <td>4bf58dd8d48988d1c1941735</td>\n      <td>Mexican Restaurant</td>\n      <td>40.717888</td>\n      <td>-74.005668</td>\n      <td>-240</td>\n      <td>Tue Apr 10 16:21:48 +0000 2012</td>\n      <td>1.334075e+09</td>\n      <td>1_3</td>\n      <td>4bf58dd8d48988d1c1941735</td>\n    </tr>\n    <tr>\n      <th>11804</th>\n      <td>1</td>\n      <td>49d2b43ef964a520cb5b1fe3</td>\n      <td>4bf58dd8d48988d1e0931735</td>\n      <td>Coffee Shop</td>\n      <td>40.720087</td>\n      <td>-74.003961</td>\n      <td>-240</td>\n      <td>Thu Apr 12 17:19:21 +0000 2012</td>\n      <td>1.334251e+09</td>\n      <td>1_4</td>\n      <td>4bf58dd8d48988d1e0931735</td>\n    </tr>\n    <tr>\n      <th>13737</th>\n      <td>1</td>\n      <td>4f3283f0e4b057434d8fdc81</td>\n      <td>4bf58dd8d48988d1c1941735</td>\n      <td>Mexican Restaurant</td>\n      <td>40.717888</td>\n      <td>-74.005668</td>\n      <td>-240</td>\n      <td>Fri Apr 13 15:41:41 +0000 2012</td>\n      <td>1.334332e+09</td>\n      <td>1_4</td>\n      <td>4bf58dd8d48988d1c1941735</td>\n    </tr>\n  </tbody>\n</table>\n</div>"
     },
     "execution_count": 11,
     "metadata": {},
     "output_type": "execute_result"
    }
   ],
   "source": [
    "result_df.head(10)"
   ],
   "metadata": {
    "collapsed": false
   }
  },
  {
   "cell_type": "code",
   "execution_count": 26,
   "outputs": [],
   "source": [
    "train_df.to_csv('./dataset/dataset_tsmc2014/NYC_train.csv',sep=',',index=False)\n",
    "test_df.to_csv('./dataset/dataset_tsmc2014/NYC_test.csv',sep=',',index=False)"
   ],
   "metadata": {
    "collapsed": false
   }
  },
  {
   "cell_type": "code",
   "execution_count": 12,
   "outputs": [
    {
     "data": {
      "text/plain": "       user_id                    POI_id                 POI_catid  \\\n2454         1  4abc1f51f964a520798620e3  4bf58dd8d48988d1ce941735   \n3660         1  4d4ac10da0ef54814b6ffff6  4bf58dd8d48988d157941735   \n5603         1  4db44994cda1c57c82583709  4bf58dd8d48988d1f1931735   \n5783         1  4a541923f964a52008b31fe3  4bf58dd8d48988d14e941735   \n6696         1  40f1d480f964a5205b0a1fe3  4bf58dd8d48988d143941735   \n7666         1  3fd66200f964a52094e41ee3  4bf58dd8d48988d1cc941735   \n7906         1  42586c80f964a520db201fe3  4bf58dd8d48988d121941735   \n8312         1  4f3283f0e4b057434d8fdc81  4bf58dd8d48988d1c1941735   \n11804        1  49d2b43ef964a520cb5b1fe3  4bf58dd8d48988d1e0931735   \n13737        1  4f3283f0e4b057434d8fdc81  4bf58dd8d48988d1c1941735   \n\n                 POI_catname   latitude  longitude  timezone  \\\n2454      Seafood Restaurant  40.781558 -73.975792      -240   \n3660     American Restaurant  40.784018 -73.974524      -240   \n5603   General Entertainment  40.739398 -73.993210      -240   \n5783     American Restaurant  40.785677 -73.976498      -240   \n6696          Breakfast Spot  40.719929 -74.008532      -240   \n7666              Steakhouse  40.734276 -73.993525      -240   \n7906                     Bar  40.775986 -73.979528      -240   \n8312      Mexican Restaurant  40.717888 -74.005668      -240   \n11804            Coffee Shop  40.720087 -74.003961      -240   \n13737     Mexican Restaurant  40.717888 -74.005668      -240   \n\n                             UTC_time     timestamp trajectory_id  \\\n2454   Wed Apr 04 23:31:31 +0000 2012  1.333582e+09           1_1   \n3660   Sat Apr 07 17:42:24 +0000 2012  1.333821e+09           1_2   \n5603   Sun Apr 08 18:20:29 +0000 2012  1.333909e+09           1_3   \n5783   Sun Apr 08 20:02:10 +0000 2012  1.333915e+09           1_3   \n6696   Mon Apr 09 16:20:52 +0000 2012  1.333988e+09           1_3   \n7666   Tue Apr 10 00:24:31 +0000 2012  1.334017e+09           1_3   \n7906   Tue Apr 10 03:36:56 +0000 2012  1.334029e+09           1_3   \n8312   Tue Apr 10 16:21:48 +0000 2012  1.334075e+09           1_3   \n11804  Thu Apr 12 17:19:21 +0000 2012  1.334251e+09           1_4   \n13737  Fri Apr 13 15:41:41 +0000 2012  1.334332e+09           1_4   \n\n                 POI_catid_code  \n2454   4bf58dd8d48988d1ce941735  \n3660   4bf58dd8d48988d157941735  \n5603   4bf58dd8d48988d1f1931735  \n5783   4bf58dd8d48988d14e941735  \n6696   4bf58dd8d48988d143941735  \n7666   4bf58dd8d48988d1cc941735  \n7906   4bf58dd8d48988d121941735  \n8312   4bf58dd8d48988d1c1941735  \n11804  4bf58dd8d48988d1e0931735  \n13737  4bf58dd8d48988d1c1941735  ",
      "text/html": "<div>\n<style scoped>\n    .dataframe tbody tr th:only-of-type {\n        vertical-align: middle;\n    }\n\n    .dataframe tbody tr th {\n        vertical-align: top;\n    }\n\n    .dataframe thead th {\n        text-align: right;\n    }\n</style>\n<table border=\"1\" class=\"dataframe\">\n  <thead>\n    <tr style=\"text-align: right;\">\n      <th></th>\n      <th>user_id</th>\n      <th>POI_id</th>\n      <th>POI_catid</th>\n      <th>POI_catname</th>\n      <th>latitude</th>\n      <th>longitude</th>\n      <th>timezone</th>\n      <th>UTC_time</th>\n      <th>timestamp</th>\n      <th>trajectory_id</th>\n      <th>POI_catid_code</th>\n    </tr>\n  </thead>\n  <tbody>\n    <tr>\n      <th>2454</th>\n      <td>1</td>\n      <td>4abc1f51f964a520798620e3</td>\n      <td>4bf58dd8d48988d1ce941735</td>\n      <td>Seafood Restaurant</td>\n      <td>40.781558</td>\n      <td>-73.975792</td>\n      <td>-240</td>\n      <td>Wed Apr 04 23:31:31 +0000 2012</td>\n      <td>1.333582e+09</td>\n      <td>1_1</td>\n      <td>4bf58dd8d48988d1ce941735</td>\n    </tr>\n    <tr>\n      <th>3660</th>\n      <td>1</td>\n      <td>4d4ac10da0ef54814b6ffff6</td>\n      <td>4bf58dd8d48988d157941735</td>\n      <td>American Restaurant</td>\n      <td>40.784018</td>\n      <td>-73.974524</td>\n      <td>-240</td>\n      <td>Sat Apr 07 17:42:24 +0000 2012</td>\n      <td>1.333821e+09</td>\n      <td>1_2</td>\n      <td>4bf58dd8d48988d157941735</td>\n    </tr>\n    <tr>\n      <th>5603</th>\n      <td>1</td>\n      <td>4db44994cda1c57c82583709</td>\n      <td>4bf58dd8d48988d1f1931735</td>\n      <td>General Entertainment</td>\n      <td>40.739398</td>\n      <td>-73.993210</td>\n      <td>-240</td>\n      <td>Sun Apr 08 18:20:29 +0000 2012</td>\n      <td>1.333909e+09</td>\n      <td>1_3</td>\n      <td>4bf58dd8d48988d1f1931735</td>\n    </tr>\n    <tr>\n      <th>5783</th>\n      <td>1</td>\n      <td>4a541923f964a52008b31fe3</td>\n      <td>4bf58dd8d48988d14e941735</td>\n      <td>American Restaurant</td>\n      <td>40.785677</td>\n      <td>-73.976498</td>\n      <td>-240</td>\n      <td>Sun Apr 08 20:02:10 +0000 2012</td>\n      <td>1.333915e+09</td>\n      <td>1_3</td>\n      <td>4bf58dd8d48988d14e941735</td>\n    </tr>\n    <tr>\n      <th>6696</th>\n      <td>1</td>\n      <td>40f1d480f964a5205b0a1fe3</td>\n      <td>4bf58dd8d48988d143941735</td>\n      <td>Breakfast Spot</td>\n      <td>40.719929</td>\n      <td>-74.008532</td>\n      <td>-240</td>\n      <td>Mon Apr 09 16:20:52 +0000 2012</td>\n      <td>1.333988e+09</td>\n      <td>1_3</td>\n      <td>4bf58dd8d48988d143941735</td>\n    </tr>\n    <tr>\n      <th>7666</th>\n      <td>1</td>\n      <td>3fd66200f964a52094e41ee3</td>\n      <td>4bf58dd8d48988d1cc941735</td>\n      <td>Steakhouse</td>\n      <td>40.734276</td>\n      <td>-73.993525</td>\n      <td>-240</td>\n      <td>Tue Apr 10 00:24:31 +0000 2012</td>\n      <td>1.334017e+09</td>\n      <td>1_3</td>\n      <td>4bf58dd8d48988d1cc941735</td>\n    </tr>\n    <tr>\n      <th>7906</th>\n      <td>1</td>\n      <td>42586c80f964a520db201fe3</td>\n      <td>4bf58dd8d48988d121941735</td>\n      <td>Bar</td>\n      <td>40.775986</td>\n      <td>-73.979528</td>\n      <td>-240</td>\n      <td>Tue Apr 10 03:36:56 +0000 2012</td>\n      <td>1.334029e+09</td>\n      <td>1_3</td>\n      <td>4bf58dd8d48988d121941735</td>\n    </tr>\n    <tr>\n      <th>8312</th>\n      <td>1</td>\n      <td>4f3283f0e4b057434d8fdc81</td>\n      <td>4bf58dd8d48988d1c1941735</td>\n      <td>Mexican Restaurant</td>\n      <td>40.717888</td>\n      <td>-74.005668</td>\n      <td>-240</td>\n      <td>Tue Apr 10 16:21:48 +0000 2012</td>\n      <td>1.334075e+09</td>\n      <td>1_3</td>\n      <td>4bf58dd8d48988d1c1941735</td>\n    </tr>\n    <tr>\n      <th>11804</th>\n      <td>1</td>\n      <td>49d2b43ef964a520cb5b1fe3</td>\n      <td>4bf58dd8d48988d1e0931735</td>\n      <td>Coffee Shop</td>\n      <td>40.720087</td>\n      <td>-74.003961</td>\n      <td>-240</td>\n      <td>Thu Apr 12 17:19:21 +0000 2012</td>\n      <td>1.334251e+09</td>\n      <td>1_4</td>\n      <td>4bf58dd8d48988d1e0931735</td>\n    </tr>\n    <tr>\n      <th>13737</th>\n      <td>1</td>\n      <td>4f3283f0e4b057434d8fdc81</td>\n      <td>4bf58dd8d48988d1c1941735</td>\n      <td>Mexican Restaurant</td>\n      <td>40.717888</td>\n      <td>-74.005668</td>\n      <td>-240</td>\n      <td>Fri Apr 13 15:41:41 +0000 2012</td>\n      <td>1.334332e+09</td>\n      <td>1_4</td>\n      <td>4bf58dd8d48988d1c1941735</td>\n    </tr>\n  </tbody>\n</table>\n</div>"
     },
     "execution_count": 12,
     "metadata": {},
     "output_type": "execute_result"
    }
   ],
   "source": [
    "train_df.head(10)"
   ],
   "metadata": {
    "collapsed": false
   }
  },
  {
   "cell_type": "code",
   "execution_count": 28,
   "outputs": [
    {
     "data": {
      "text/plain": "        user_id                    POI_id                 POI_catid  \\\n76832         1  4fb62dcb4fc6cfd3cc2c1acc  4bf58dd8d48988d1f1931735   \n77205         1  46f52f99f964a520ef4a1fe3  4bf58dd8d48988d14e941735   \n83327         1  3fd66200f964a52048e81ee3  4bf58dd8d48988d1e0931735   \n83836         1  3fd66200f964a520c5f11ee3  4bf58dd8d48988d14e941735   \n89016         1  4d27b39755a8b60c0c4bc6c0  4bf58dd8d48988d155941735   \n89276         1  4de3e4effa7651589f21983d  4bf58dd8d48988d11e941735   \n118467        1  49d2b43ef964a520cb5b1fe3  4bf58dd8d48988d1e0931735   \n124184        1  3fd66200f964a520caea1ee3  4bf58dd8d48988d1d4941735   \n124340        1  3fd66200f964a520c7f11ee3  4bf58dd8d48988d1ca941735   \n125126        1  4530db98f964a520623b1fe3  4bf58dd8d48988d190941735   \n\n                  POI_catname   latitude  longitude  timezone  \\\n76832   General Entertainment  40.659952 -73.968866      -240   \n77205     American Restaurant  40.665308 -73.989401      -240   \n83327             Coffee Shop  40.785889 -73.976859      -240   \n83836     American Restaurant  40.719607 -73.986764      -240   \n89016               Gastropub  40.728007 -73.999143      -240   \n89276                     Bar  40.721488 -73.995029      -240   \n118467            Coffee Shop  40.720087 -74.003961      -240   \n124184                    Bar  40.730084 -73.989256      -240   \n124340            Pizza Place  40.731682 -73.996181      -240   \n125126         History Museum  40.792624 -73.952190      -240   \n\n                              UTC_time  norm_in_day_time     timestamp  \\\n76832   Sat May 19 17:54:31 +0000 2012              0.58  1.337450e+09   \n77205   Sat May 19 20:38:26 +0000 2012              0.69  1.337460e+09   \n83327   Sat May 26 01:12:48 +0000 2012              0.88  1.337995e+09   \n83836   Sat May 26 22:44:50 +0000 2012              0.78  1.338072e+09   \n89016   Tue May 29 21:33:52 +0000 2012              0.73  1.338327e+09   \n89276   Tue May 29 23:15:10 +0000 2012              0.80  1.338333e+09   \n118467  Mon Jul 02 18:16:36 +0000 2012              0.59  1.341253e+09   \n124184  Sat Jul 07 00:16:43 +0000 2012              0.84  1.341620e+09   \n124340  Sat Jul 07 02:12:49 +0000 2012              0.92  1.341627e+09   \n125126  Sat Jul 07 19:48:24 +0000 2012              0.66  1.341691e+09   \n\n       trajectory_id            POI_catid_code  \n76832           1_11  4bf58dd8d48988d1f1931735  \n77205           1_11  4bf58dd8d48988d14e941735  \n83327           1_12  4bf58dd8d48988d1e0931735  \n83836           1_12  4bf58dd8d48988d14e941735  \n89016           1_14  4bf58dd8d48988d155941735  \n89276           1_14  4bf58dd8d48988d11e941735  \n118467          1_20  4bf58dd8d48988d1e0931735  \n124184          1_22  4bf58dd8d48988d1d4941735  \n124340          1_22  4bf58dd8d48988d1ca941735  \n125126          1_22  4bf58dd8d48988d190941735  ",
      "text/html": "<div>\n<style scoped>\n    .dataframe tbody tr th:only-of-type {\n        vertical-align: middle;\n    }\n\n    .dataframe tbody tr th {\n        vertical-align: top;\n    }\n\n    .dataframe thead th {\n        text-align: right;\n    }\n</style>\n<table border=\"1\" class=\"dataframe\">\n  <thead>\n    <tr style=\"text-align: right;\">\n      <th></th>\n      <th>user_id</th>\n      <th>POI_id</th>\n      <th>POI_catid</th>\n      <th>POI_catname</th>\n      <th>latitude</th>\n      <th>longitude</th>\n      <th>timezone</th>\n      <th>UTC_time</th>\n      <th>norm_in_day_time</th>\n      <th>timestamp</th>\n      <th>trajectory_id</th>\n      <th>POI_catid_code</th>\n    </tr>\n  </thead>\n  <tbody>\n    <tr>\n      <th>76832</th>\n      <td>1</td>\n      <td>4fb62dcb4fc6cfd3cc2c1acc</td>\n      <td>4bf58dd8d48988d1f1931735</td>\n      <td>General Entertainment</td>\n      <td>40.659952</td>\n      <td>-73.968866</td>\n      <td>-240</td>\n      <td>Sat May 19 17:54:31 +0000 2012</td>\n      <td>0.58</td>\n      <td>1.337450e+09</td>\n      <td>1_11</td>\n      <td>4bf58dd8d48988d1f1931735</td>\n    </tr>\n    <tr>\n      <th>77205</th>\n      <td>1</td>\n      <td>46f52f99f964a520ef4a1fe3</td>\n      <td>4bf58dd8d48988d14e941735</td>\n      <td>American Restaurant</td>\n      <td>40.665308</td>\n      <td>-73.989401</td>\n      <td>-240</td>\n      <td>Sat May 19 20:38:26 +0000 2012</td>\n      <td>0.69</td>\n      <td>1.337460e+09</td>\n      <td>1_11</td>\n      <td>4bf58dd8d48988d14e941735</td>\n    </tr>\n    <tr>\n      <th>83327</th>\n      <td>1</td>\n      <td>3fd66200f964a52048e81ee3</td>\n      <td>4bf58dd8d48988d1e0931735</td>\n      <td>Coffee Shop</td>\n      <td>40.785889</td>\n      <td>-73.976859</td>\n      <td>-240</td>\n      <td>Sat May 26 01:12:48 +0000 2012</td>\n      <td>0.88</td>\n      <td>1.337995e+09</td>\n      <td>1_12</td>\n      <td>4bf58dd8d48988d1e0931735</td>\n    </tr>\n    <tr>\n      <th>83836</th>\n      <td>1</td>\n      <td>3fd66200f964a520c5f11ee3</td>\n      <td>4bf58dd8d48988d14e941735</td>\n      <td>American Restaurant</td>\n      <td>40.719607</td>\n      <td>-73.986764</td>\n      <td>-240</td>\n      <td>Sat May 26 22:44:50 +0000 2012</td>\n      <td>0.78</td>\n      <td>1.338072e+09</td>\n      <td>1_12</td>\n      <td>4bf58dd8d48988d14e941735</td>\n    </tr>\n    <tr>\n      <th>89016</th>\n      <td>1</td>\n      <td>4d27b39755a8b60c0c4bc6c0</td>\n      <td>4bf58dd8d48988d155941735</td>\n      <td>Gastropub</td>\n      <td>40.728007</td>\n      <td>-73.999143</td>\n      <td>-240</td>\n      <td>Tue May 29 21:33:52 +0000 2012</td>\n      <td>0.73</td>\n      <td>1.338327e+09</td>\n      <td>1_14</td>\n      <td>4bf58dd8d48988d155941735</td>\n    </tr>\n    <tr>\n      <th>89276</th>\n      <td>1</td>\n      <td>4de3e4effa7651589f21983d</td>\n      <td>4bf58dd8d48988d11e941735</td>\n      <td>Bar</td>\n      <td>40.721488</td>\n      <td>-73.995029</td>\n      <td>-240</td>\n      <td>Tue May 29 23:15:10 +0000 2012</td>\n      <td>0.80</td>\n      <td>1.338333e+09</td>\n      <td>1_14</td>\n      <td>4bf58dd8d48988d11e941735</td>\n    </tr>\n    <tr>\n      <th>118467</th>\n      <td>1</td>\n      <td>49d2b43ef964a520cb5b1fe3</td>\n      <td>4bf58dd8d48988d1e0931735</td>\n      <td>Coffee Shop</td>\n      <td>40.720087</td>\n      <td>-74.003961</td>\n      <td>-240</td>\n      <td>Mon Jul 02 18:16:36 +0000 2012</td>\n      <td>0.59</td>\n      <td>1.341253e+09</td>\n      <td>1_20</td>\n      <td>4bf58dd8d48988d1e0931735</td>\n    </tr>\n    <tr>\n      <th>124184</th>\n      <td>1</td>\n      <td>3fd66200f964a520caea1ee3</td>\n      <td>4bf58dd8d48988d1d4941735</td>\n      <td>Bar</td>\n      <td>40.730084</td>\n      <td>-73.989256</td>\n      <td>-240</td>\n      <td>Sat Jul 07 00:16:43 +0000 2012</td>\n      <td>0.84</td>\n      <td>1.341620e+09</td>\n      <td>1_22</td>\n      <td>4bf58dd8d48988d1d4941735</td>\n    </tr>\n    <tr>\n      <th>124340</th>\n      <td>1</td>\n      <td>3fd66200f964a520c7f11ee3</td>\n      <td>4bf58dd8d48988d1ca941735</td>\n      <td>Pizza Place</td>\n      <td>40.731682</td>\n      <td>-73.996181</td>\n      <td>-240</td>\n      <td>Sat Jul 07 02:12:49 +0000 2012</td>\n      <td>0.92</td>\n      <td>1.341627e+09</td>\n      <td>1_22</td>\n      <td>4bf58dd8d48988d1ca941735</td>\n    </tr>\n    <tr>\n      <th>125126</th>\n      <td>1</td>\n      <td>4530db98f964a520623b1fe3</td>\n      <td>4bf58dd8d48988d190941735</td>\n      <td>History Museum</td>\n      <td>40.792624</td>\n      <td>-73.952190</td>\n      <td>-240</td>\n      <td>Sat Jul 07 19:48:24 +0000 2012</td>\n      <td>0.66</td>\n      <td>1.341691e+09</td>\n      <td>1_22</td>\n      <td>4bf58dd8d48988d190941735</td>\n    </tr>\n  </tbody>\n</table>\n</div>"
     },
     "execution_count": 28,
     "metadata": {},
     "output_type": "execute_result"
    }
   ],
   "source": [
    "test_df.head(10)"
   ],
   "metadata": {
    "collapsed": false
   }
  },
  {
   "cell_type": "code",
   "execution_count": 27,
   "outputs": [],
   "source": [
    "result_df.to_csv('./dataset/dataset_tsmc2014/NYC.csv',sep=',',index=False)"
   ],
   "metadata": {
    "collapsed": false
   }
  },
  {
   "cell_type": "code",
   "execution_count": 18,
   "outputs": [
    {
     "data": {
      "text/plain": "1083"
     },
     "execution_count": 18,
     "metadata": {},
     "output_type": "execute_result"
    }
   ],
   "source": [
    "len(result_df['user_id'].unique())"
   ],
   "metadata": {
    "collapsed": false
   }
  },
  {
   "cell_type": "code",
   "execution_count": 4,
   "outputs": [
    {
     "name": "stdout",
     "output_type": "stream",
     "text": [
      "tensor([[0.9926, 0.9946, 0.9866],\n",
      "        [0.9683, 0.9996, 0.9994]])\n"
     ]
    }
   ],
   "source": [
    "import torch\n",
    "poi_embedding = torch.tensor([[0.1, 0.2, 0.3], [0.4, 0.5, 0.6], [0.7, 0.8, 0.9]]) # shape: [num_poi, D]\n",
    "newAdd_poi_embedding = torch.tensor([[0.2, 0.3, 0.4], [0.5, 0.6, 0.7]]) # shape: [newAdd_num, D]\n",
    "similarity_matrix = torch.cosine_similarity(newAdd_poi_embedding.unsqueeze(1), poi_embedding.unsqueeze(0), dim=2) # shape: [newAdd_num, num_poi]\n",
    "print(similarity_matrix)"
   ],
   "metadata": {
    "collapsed": false
   }
  },
  {
   "cell_type": "code",
   "execution_count": 6,
   "outputs": [
    {
     "ename": "TypeError",
     "evalue": "map() takes from 3 to 4 positional arguments but 5 were given",
     "output_type": "error",
     "traceback": [
      "\u001B[0;31m---------------------------------------------------------------------------\u001B[0m",
      "\u001B[0;31mTypeError\u001B[0m                                 Traceback (most recent call last)",
      "Cell \u001B[0;32mIn [6], line 7\u001B[0m\n\u001B[1;32m      4\u001B[0m     \u001B[38;5;28;01mreturn\u001B[39;00m x \u001B[38;5;241m+\u001B[39m y \u001B[38;5;241m+\u001B[39m z\n\u001B[1;32m      6\u001B[0m pool \u001B[38;5;241m=\u001B[39m multiprocessing\u001B[38;5;241m.\u001B[39mPool(\u001B[38;5;241m4\u001B[39m)\n\u001B[0;32m----> 7\u001B[0m result \u001B[38;5;241m=\u001B[39m \u001B[43mpool\u001B[49m\u001B[38;5;241;43m.\u001B[39;49m\u001B[43mmap\u001B[49m\u001B[43m(\u001B[49m\u001B[43madd\u001B[49m\u001B[43m,\u001B[49m\u001B[43m \u001B[49m\u001B[43m[\u001B[49m\u001B[38;5;241;43m1\u001B[39;49m\u001B[43m,\u001B[49m\u001B[43m \u001B[49m\u001B[38;5;241;43m2\u001B[39;49m\u001B[43m,\u001B[49m\u001B[43m \u001B[49m\u001B[38;5;241;43m3\u001B[39;49m\u001B[43m]\u001B[49m\u001B[43m,\u001B[49m\u001B[43m \u001B[49m\u001B[43m(\u001B[49m\u001B[38;5;241;43m10\u001B[39;49m\u001B[43m,\u001B[49m\u001B[43m \u001B[49m\u001B[38;5;241;43m20\u001B[39;49m\u001B[43m)\u001B[49m\u001B[43m,\u001B[49m\u001B[43m \u001B[49m\u001B[38;5;241;43m100\u001B[39;49m\u001B[43m)\u001B[49m\n\u001B[1;32m      8\u001B[0m \u001B[38;5;28mprint\u001B[39m(result)\n",
      "\u001B[0;31mTypeError\u001B[0m: map() takes from 3 to 4 positional arguments but 5 were given"
     ]
    }
   ],
   "source": [
    "import multiprocessing\n",
    "\n",
    "def add(x, y, z):\n",
    "    return x + y + z\n",
    "\n",
    "pool = multiprocessing.Pool(4)\n",
    "result = pool.map(add, [1, 2, 3], (10, 20), 100)\n",
    "print(result)"
   ],
   "metadata": {
    "collapsed": false
   }
  }
 ],
 "metadata": {
  "kernelspec": {
   "display_name": "Python 3",
   "language": "python",
   "name": "python3"
  },
  "language_info": {
   "codemirror_mode": {
    "name": "ipython",
    "version": 2
   },
   "file_extension": ".py",
   "mimetype": "text/x-python",
   "name": "python",
   "nbconvert_exporter": "python",
   "pygments_lexer": "ipython2",
   "version": "2.7.6"
  }
 },
 "nbformat": 4,
 "nbformat_minor": 0
}
