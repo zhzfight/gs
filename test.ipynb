{
 "cells": [
  {
   "cell_type": "markdown",
   "source": [],
   "metadata": {
    "collapsed": false
   }
  },
  {
   "cell_type": "code",
   "execution_count": 20,
   "outputs": [
    {
     "name": "stdout",
     "output_type": "stream",
     "text": [
      "        user_id                    POI_id                 POI_catid  \\\n",
      "3660          1  4d4ac10da0ef54814b6ffff6  4bf58dd8d48988d157941735   \n",
      "5603          1  4db44994cda1c57c82583709  4bf58dd8d48988d1f1931735   \n",
      "5783          1  4a541923f964a52008b31fe3  4bf58dd8d48988d14e941735   \n",
      "6696          1  40f1d480f964a5205b0a1fe3  4bf58dd8d48988d143941735   \n",
      "7666          1  3fd66200f964a52094e41ee3  4bf58dd8d48988d1cc941735   \n",
      "...         ...                       ...                       ...   \n",
      "220748     1083  49f4dca6f964a520626b1fe3  4bf58dd8d48988d1c1941735   \n",
      "220756     1083  40b68100f964a52085001fe3  4bf58dd8d48988d116941735   \n",
      "224179     1083  4eda64ced5fb8f213a5d740e  4bf58dd8d48988d176941735   \n",
      "224647     1083  51140198e4b0874a568cde81  4bf58dd8d48988d162941735   \n",
      "225359     1083  4a53d9a7f964a520c7b21fe3  4bf58dd8d48988d124941735   \n",
      "\n",
      "                 poi_cat_name   latitude  longitude  timezone  \\\n",
      "3660      American Restaurant  40.784018 -73.974524      -240   \n",
      "5603    General Entertainment  40.739398 -73.993210      -240   \n",
      "5783      American Restaurant  40.785677 -73.976498      -240   \n",
      "6696           Breakfast Spot  40.719929 -74.008532      -240   \n",
      "7666               Steakhouse  40.734276 -73.993525      -240   \n",
      "...                       ...        ...        ...       ...   \n",
      "220748     Mexican Restaurant  40.735174 -73.979597      -300   \n",
      "220756                    Bar  40.737831 -73.981022      -300   \n",
      "224179   Gym / Fitness Center  40.746119 -73.993070      -300   \n",
      "224647   Other Great Outdoors  40.757790 -73.981934      -300   \n",
      "225359                 Office  40.745518 -73.992351      -300   \n",
      "\n",
      "                              UTC_time  norm_in_day_time     timestamp  \\\n",
      "3660    Sat Apr 07 17:42:24 +0000 2012              0.57  1.333821e+09   \n",
      "5603    Sun Apr 08 18:20:29 +0000 2012              0.60  1.333909e+09   \n",
      "5783    Sun Apr 08 20:02:10 +0000 2012              0.67  1.333915e+09   \n",
      "6696    Mon Apr 09 16:20:52 +0000 2012              0.51  1.333988e+09   \n",
      "7666    Tue Apr 10 00:24:31 +0000 2012              0.85  1.334017e+09   \n",
      "...                                ...               ...           ...   \n",
      "220748  Sat Feb 02 04:19:34 +0000 2013              0.97  1.359779e+09   \n",
      "220756  Sat Feb 02 04:48:36 +0000 2013              0.99  1.359781e+09   \n",
      "224179  Thu Feb 07 23:37:55 +0000 2013              0.78  1.360280e+09   \n",
      "224647  Fri Feb 08 13:15:06 +0000 2013              0.34  1.360329e+09   \n",
      "225359  Mon Feb 11 15:49:50 +0000 2013              0.45  1.360598e+09   \n",
      "\n",
      "       trajectory_id  \n",
      "3660             1_1  \n",
      "5603             1_2  \n",
      "5783             1_2  \n",
      "6696             1_2  \n",
      "7666             1_2  \n",
      "...              ...  \n",
      "220748       1083_72  \n",
      "220756       1083_72  \n",
      "224179       1083_73  \n",
      "224647       1083_73  \n",
      "225359       1083_74  \n",
      "\n",
      "[171753 rows x 11 columns]\n"
     ]
    }
   ],
   "source": [
    "# 导入pandas模块\n",
    "import pandas as pd\n",
    "import datetime as dt\n",
    "\n",
    "# 定义列名列表\n",
    "col_names = [\"user_id\", \"POI_id\", \"POI_catid\", \"poi_cat_name\", \"latitude\", \"longitude\", \"timezone\", \"UTC_time\"]\n",
    "\n",
    "# 读取csv文件，并添加列名\n",
    "df = pd.read_csv(\"./dataset/dataset_tsmc2014/dataset_TSMC2014_NYC.txt\", names=col_names,sep='\\t')\n",
    "\n",
    "# 统计每个用户的签到次数\n",
    "user_counts = df.groupby(\"user_id\").size()\n",
    "\n",
    "# 筛选出签到次数大于等于10次的用户\n",
    "valid_users = user_counts[user_counts >= 5].index\n",
    "\n",
    "# 从数据集中只保留有效用户的数据\n",
    "df = df[df[\"user_id\"].isin(valid_users)]\n",
    "\n",
    "# 统计每个poi的被签到次数\n",
    "poi_counts = df.groupby(\"POI_id\").size()\n",
    "\n",
    "# 筛选出被签到次数大于等于10次的poi\n",
    "valid_pois = poi_counts[poi_counts >= 6].index\n",
    "\n",
    "# 从数据集中只保留有效poi的数据\n",
    "df = df[df[\"POI_id\"].isin(valid_pois)]\n",
    "def get_local_fraction(utc_time, timezone_offset):\n",
    "  # 将utc时间戳转换为datetime对象\n",
    "  utc_datetime = dt.datetime.strptime(utc_time, \"%a %b %d %H:%M:%S %z %Y\")\n",
    "  # 根据时区偏移计算本地时间\n",
    "  local_datetime = utc_datetime + dt.timedelta(minutes=timezone_offset)\n",
    "  # 获取本地时间的小时和分钟\n",
    "  local_hour = local_datetime.hour\n",
    "  local_minute = local_datetime.minute\n",
    "  # 计算本地时间百分比，保留两位小数\n",
    "  local_fraction = round((local_hour + local_minute / 60) / 24, 2)\n",
    "  # 返回本地时间百分比\n",
    "  return local_fraction\n",
    "df[\"norm_in_day_time\"] = df.apply(lambda row: get_local_fraction(row[\"UTC_time\"], row[\"timezone\"]), axis=1)\n",
    "# 把UTC time列转换成时间戳\n",
    "df[\"timestamp\"] = pd.to_datetime(df[\"UTC_time\"], format=\"%a %b %d %H:%M:%S %z %Y\").astype(int) / 10**9\n",
    "\n",
    "# 按照user分组\n",
    "groups = df.groupby(\"user_id\")\n",
    "\n",
    "# 创建一个空的列表，用于存储结果\n",
    "result = []\n",
    "\n",
    "# 遍历每个分组\n",
    "for name, group in groups:\n",
    "    # 对每个分组内的时间戳进行排序\n",
    "    group = group.sort_values(\"timestamp\")\n",
    "    # 创建一个变量，用于记录小组的序号\n",
    "    traj_id = 1\n",
    "    # 创建一个变量，用于记录上一个时间戳\n",
    "    prev_timestamp = None\n",
    "    # 遍历每个分组内的行\n",
    "    for index, row in group.iterrows():\n",
    "        # 获取当前时间戳\n",
    "        curr_timestamp = row[\"timestamp\"]\n",
    "        # 如果是第一行，或者时间相差大于24小时\n",
    "        if prev_timestamp is None or curr_timestamp - prev_timestamp > 24 * 60 * 60:\n",
    "            # 给这个行开辟一个新的列，列名是traj_id，列的值是user+小组的序号\n",
    "            row[\"trajectory_id\"] = str(name) + \"_\" + str(traj_id)\n",
    "            # 小组的序号加一\n",
    "            traj_id += 1\n",
    "        # 否则，给这个行开辟一个新的列，列名是traj_id，列的值和上一行相同\n",
    "        else:\n",
    "            row[\"trajectory_id\"] = result[-1][\"trajectory_id\"]\n",
    "        # 把这个行添加到结果列表中\n",
    "        result.append(row)\n",
    "        # 更新上一个时间戳\n",
    "        prev_timestamp = curr_timestamp\n",
    "\n",
    "# 把结果列表转换成pandas数据框\n",
    "result_df = pd.DataFrame(result)\n",
    "\n",
    "# 打印结果数据框\n",
    "print(result_df)\n",
    "\n"
   ],
   "metadata": {
    "collapsed": false
   }
  },
  {
   "cell_type": "code",
   "execution_count": 21,
   "outputs": [
    {
     "data": {
      "text/plain": "(1083, 8446)"
     },
     "execution_count": 21,
     "metadata": {},
     "output_type": "execute_result"
    }
   ],
   "source": [
    "len(result_df['user_id'].unique()),len(result_df['POI_id'].unique())"
   ],
   "metadata": {
    "collapsed": false
   }
  },
  {
   "cell_type": "code",
   "execution_count": 22,
   "outputs": [
    {
     "data": {
      "text/plain": "       user_id                    POI_id                 POI_catid  \\\n3660         1  4d4ac10da0ef54814b6ffff6  4bf58dd8d48988d157941735   \n5603         1  4db44994cda1c57c82583709  4bf58dd8d48988d1f1931735   \n5783         1  4a541923f964a52008b31fe3  4bf58dd8d48988d14e941735   \n6696         1  40f1d480f964a5205b0a1fe3  4bf58dd8d48988d143941735   \n7666         1  3fd66200f964a52094e41ee3  4bf58dd8d48988d1cc941735   \n11804        1  49d2b43ef964a520cb5b1fe3  4bf58dd8d48988d1e0931735   \n14856        1  46ea2358f964a520cf4a1fe3  4bf58dd8d48988d11d941735   \n15082        1  4d081fb700e6b1f7d4060cd7  4bf58dd8d48988d113941735   \n15249        1  40fb0f00f964a520d90a1fe3  4bf58dd8d48988d11b941735   \n15947        1  428d2880f964a520b5231fe3  4bf58dd8d48988d1fa931735   \n\n                poi_cat_name   latitude  longitude  timezone  \\\n3660     American Restaurant  40.784018 -73.974524      -240   \n5603   General Entertainment  40.739398 -73.993210      -240   \n5783     American Restaurant  40.785677 -73.976498      -240   \n6696          Breakfast Spot  40.719929 -74.008532      -240   \n7666              Steakhouse  40.734276 -73.993525      -240   \n11804            Coffee Shop  40.720087 -74.003961      -240   \n14856                    Bar  40.760667 -73.994948      -240   \n15082      Korean Restaurant  40.764104 -73.986725      -240   \n15249                    Bar  40.760645 -73.986065      -240   \n15947                  Hotel  40.756731 -73.974070      -240   \n\n                             UTC_time  norm_in_day_time     timestamp  \\\n3660   Sat Apr 07 17:42:24 +0000 2012              0.57  1.333821e+09   \n5603   Sun Apr 08 18:20:29 +0000 2012              0.60  1.333909e+09   \n5783   Sun Apr 08 20:02:10 +0000 2012              0.67  1.333915e+09   \n6696   Mon Apr 09 16:20:52 +0000 2012              0.51  1.333988e+09   \n7666   Tue Apr 10 00:24:31 +0000 2012              0.85  1.334017e+09   \n11804  Thu Apr 12 17:19:21 +0000 2012              0.55  1.334251e+09   \n14856  Sat Apr 14 01:11:20 +0000 2012              0.88  1.334366e+09   \n15082  Sat Apr 14 03:07:56 +0000 2012              0.96  1.334373e+09   \n15249  Sat Apr 14 04:45:13 +0000 2012              0.03  1.334379e+09   \n15947  Sat Apr 14 17:45:23 +0000 2012              0.57  1.334426e+09   \n\n      trajectory_id  \n3660            1_1  \n5603            1_2  \n5783            1_2  \n6696            1_2  \n7666            1_2  \n11804           1_3  \n14856           1_4  \n15082           1_4  \n15249           1_4  \n15947           1_4  ",
      "text/html": "<div>\n<style scoped>\n    .dataframe tbody tr th:only-of-type {\n        vertical-align: middle;\n    }\n\n    .dataframe tbody tr th {\n        vertical-align: top;\n    }\n\n    .dataframe thead th {\n        text-align: right;\n    }\n</style>\n<table border=\"1\" class=\"dataframe\">\n  <thead>\n    <tr style=\"text-align: right;\">\n      <th></th>\n      <th>user_id</th>\n      <th>POI_id</th>\n      <th>POI_catid</th>\n      <th>poi_cat_name</th>\n      <th>latitude</th>\n      <th>longitude</th>\n      <th>timezone</th>\n      <th>UTC_time</th>\n      <th>norm_in_day_time</th>\n      <th>timestamp</th>\n      <th>trajectory_id</th>\n    </tr>\n  </thead>\n  <tbody>\n    <tr>\n      <th>3660</th>\n      <td>1</td>\n      <td>4d4ac10da0ef54814b6ffff6</td>\n      <td>4bf58dd8d48988d157941735</td>\n      <td>American Restaurant</td>\n      <td>40.784018</td>\n      <td>-73.974524</td>\n      <td>-240</td>\n      <td>Sat Apr 07 17:42:24 +0000 2012</td>\n      <td>0.57</td>\n      <td>1.333821e+09</td>\n      <td>1_1</td>\n    </tr>\n    <tr>\n      <th>5603</th>\n      <td>1</td>\n      <td>4db44994cda1c57c82583709</td>\n      <td>4bf58dd8d48988d1f1931735</td>\n      <td>General Entertainment</td>\n      <td>40.739398</td>\n      <td>-73.993210</td>\n      <td>-240</td>\n      <td>Sun Apr 08 18:20:29 +0000 2012</td>\n      <td>0.60</td>\n      <td>1.333909e+09</td>\n      <td>1_2</td>\n    </tr>\n    <tr>\n      <th>5783</th>\n      <td>1</td>\n      <td>4a541923f964a52008b31fe3</td>\n      <td>4bf58dd8d48988d14e941735</td>\n      <td>American Restaurant</td>\n      <td>40.785677</td>\n      <td>-73.976498</td>\n      <td>-240</td>\n      <td>Sun Apr 08 20:02:10 +0000 2012</td>\n      <td>0.67</td>\n      <td>1.333915e+09</td>\n      <td>1_2</td>\n    </tr>\n    <tr>\n      <th>6696</th>\n      <td>1</td>\n      <td>40f1d480f964a5205b0a1fe3</td>\n      <td>4bf58dd8d48988d143941735</td>\n      <td>Breakfast Spot</td>\n      <td>40.719929</td>\n      <td>-74.008532</td>\n      <td>-240</td>\n      <td>Mon Apr 09 16:20:52 +0000 2012</td>\n      <td>0.51</td>\n      <td>1.333988e+09</td>\n      <td>1_2</td>\n    </tr>\n    <tr>\n      <th>7666</th>\n      <td>1</td>\n      <td>3fd66200f964a52094e41ee3</td>\n      <td>4bf58dd8d48988d1cc941735</td>\n      <td>Steakhouse</td>\n      <td>40.734276</td>\n      <td>-73.993525</td>\n      <td>-240</td>\n      <td>Tue Apr 10 00:24:31 +0000 2012</td>\n      <td>0.85</td>\n      <td>1.334017e+09</td>\n      <td>1_2</td>\n    </tr>\n    <tr>\n      <th>11804</th>\n      <td>1</td>\n      <td>49d2b43ef964a520cb5b1fe3</td>\n      <td>4bf58dd8d48988d1e0931735</td>\n      <td>Coffee Shop</td>\n      <td>40.720087</td>\n      <td>-74.003961</td>\n      <td>-240</td>\n      <td>Thu Apr 12 17:19:21 +0000 2012</td>\n      <td>0.55</td>\n      <td>1.334251e+09</td>\n      <td>1_3</td>\n    </tr>\n    <tr>\n      <th>14856</th>\n      <td>1</td>\n      <td>46ea2358f964a520cf4a1fe3</td>\n      <td>4bf58dd8d48988d11d941735</td>\n      <td>Bar</td>\n      <td>40.760667</td>\n      <td>-73.994948</td>\n      <td>-240</td>\n      <td>Sat Apr 14 01:11:20 +0000 2012</td>\n      <td>0.88</td>\n      <td>1.334366e+09</td>\n      <td>1_4</td>\n    </tr>\n    <tr>\n      <th>15082</th>\n      <td>1</td>\n      <td>4d081fb700e6b1f7d4060cd7</td>\n      <td>4bf58dd8d48988d113941735</td>\n      <td>Korean Restaurant</td>\n      <td>40.764104</td>\n      <td>-73.986725</td>\n      <td>-240</td>\n      <td>Sat Apr 14 03:07:56 +0000 2012</td>\n      <td>0.96</td>\n      <td>1.334373e+09</td>\n      <td>1_4</td>\n    </tr>\n    <tr>\n      <th>15249</th>\n      <td>1</td>\n      <td>40fb0f00f964a520d90a1fe3</td>\n      <td>4bf58dd8d48988d11b941735</td>\n      <td>Bar</td>\n      <td>40.760645</td>\n      <td>-73.986065</td>\n      <td>-240</td>\n      <td>Sat Apr 14 04:45:13 +0000 2012</td>\n      <td>0.03</td>\n      <td>1.334379e+09</td>\n      <td>1_4</td>\n    </tr>\n    <tr>\n      <th>15947</th>\n      <td>1</td>\n      <td>428d2880f964a520b5231fe3</td>\n      <td>4bf58dd8d48988d1fa931735</td>\n      <td>Hotel</td>\n      <td>40.756731</td>\n      <td>-73.974070</td>\n      <td>-240</td>\n      <td>Sat Apr 14 17:45:23 +0000 2012</td>\n      <td>0.57</td>\n      <td>1.334426e+09</td>\n      <td>1_4</td>\n    </tr>\n  </tbody>\n</table>\n</div>"
     },
     "execution_count": 22,
     "metadata": {},
     "output_type": "execute_result"
    }
   ],
   "source": [
    "result_df.head(10)"
   ],
   "metadata": {
    "collapsed": false
   }
  },
  {
   "cell_type": "code",
   "execution_count": 23,
   "outputs": [],
   "source": [
    "result_df['POI_catid_code']=result_df['POI_catid']"
   ],
   "metadata": {
    "collapsed": false
   }
  },
  {
   "cell_type": "code",
   "execution_count": 13,
   "outputs": [
    {
     "data": {
      "text/plain": "       user_id                    POI_id                 POI_catid  \\\n2454         1  4abc1f51f964a520798620e3  4bf58dd8d48988d1ce941735   \n3660         1  4d4ac10da0ef54814b6ffff6  4bf58dd8d48988d157941735   \n5603         1  4db44994cda1c57c82583709  4bf58dd8d48988d1f1931735   \n5783         1  4a541923f964a52008b31fe3  4bf58dd8d48988d14e941735   \n6696         1  40f1d480f964a5205b0a1fe3  4bf58dd8d48988d143941735   \n7666         1  3fd66200f964a52094e41ee3  4bf58dd8d48988d1cc941735   \n8312         1  4f3283f0e4b057434d8fdc81  4bf58dd8d48988d1c1941735   \n11804        1  49d2b43ef964a520cb5b1fe3  4bf58dd8d48988d1e0931735   \n13737        1  4f3283f0e4b057434d8fdc81  4bf58dd8d48988d1c1941735   \n14856        1  46ea2358f964a520cf4a1fe3  4bf58dd8d48988d11d941735   \n\n                poi_cat_name   latitude  longitude  timezone  \\\n2454      Seafood Restaurant  40.781558 -73.975792      -240   \n3660     American Restaurant  40.784018 -73.974524      -240   \n5603   General Entertainment  40.739398 -73.993210      -240   \n5783     American Restaurant  40.785677 -73.976498      -240   \n6696          Breakfast Spot  40.719929 -74.008532      -240   \n7666              Steakhouse  40.734276 -73.993525      -240   \n8312      Mexican Restaurant  40.717888 -74.005668      -240   \n11804            Coffee Shop  40.720087 -74.003961      -240   \n13737     Mexican Restaurant  40.717888 -74.005668      -240   \n14856                    Bar  40.760667 -73.994948      -240   \n\n                             UTC_time     timestamp trajectory_id  \\\n2454   Wed Apr 04 23:31:31 +0000 2012  1.333582e+09           1_1   \n3660   Sat Apr 07 17:42:24 +0000 2012  1.333821e+09           1_2   \n5603   Sun Apr 08 18:20:29 +0000 2012  1.333909e+09           1_3   \n5783   Sun Apr 08 20:02:10 +0000 2012  1.333915e+09           1_3   \n6696   Mon Apr 09 16:20:52 +0000 2012  1.333988e+09           1_3   \n7666   Tue Apr 10 00:24:31 +0000 2012  1.334017e+09           1_3   \n8312   Tue Apr 10 16:21:48 +0000 2012  1.334075e+09           1_3   \n11804  Thu Apr 12 17:19:21 +0000 2012  1.334251e+09           1_4   \n13737  Fri Apr 13 15:41:41 +0000 2012  1.334332e+09           1_4   \n14856  Sat Apr 14 01:11:20 +0000 2012  1.334366e+09           1_4   \n\n                 POI_catid_code  \n2454   4bf58dd8d48988d1ce941735  \n3660   4bf58dd8d48988d157941735  \n5603   4bf58dd8d48988d1f1931735  \n5783   4bf58dd8d48988d14e941735  \n6696   4bf58dd8d48988d143941735  \n7666   4bf58dd8d48988d1cc941735  \n8312   4bf58dd8d48988d1c1941735  \n11804  4bf58dd8d48988d1e0931735  \n13737  4bf58dd8d48988d1c1941735  \n14856  4bf58dd8d48988d11d941735  ",
      "text/html": "<div>\n<style scoped>\n    .dataframe tbody tr th:only-of-type {\n        vertical-align: middle;\n    }\n\n    .dataframe tbody tr th {\n        vertical-align: top;\n    }\n\n    .dataframe thead th {\n        text-align: right;\n    }\n</style>\n<table border=\"1\" class=\"dataframe\">\n  <thead>\n    <tr style=\"text-align: right;\">\n      <th></th>\n      <th>user_id</th>\n      <th>POI_id</th>\n      <th>POI_catid</th>\n      <th>poi_cat_name</th>\n      <th>latitude</th>\n      <th>longitude</th>\n      <th>timezone</th>\n      <th>UTC_time</th>\n      <th>timestamp</th>\n      <th>trajectory_id</th>\n      <th>POI_catid_code</th>\n    </tr>\n  </thead>\n  <tbody>\n    <tr>\n      <th>2454</th>\n      <td>1</td>\n      <td>4abc1f51f964a520798620e3</td>\n      <td>4bf58dd8d48988d1ce941735</td>\n      <td>Seafood Restaurant</td>\n      <td>40.781558</td>\n      <td>-73.975792</td>\n      <td>-240</td>\n      <td>Wed Apr 04 23:31:31 +0000 2012</td>\n      <td>1.333582e+09</td>\n      <td>1_1</td>\n      <td>4bf58dd8d48988d1ce941735</td>\n    </tr>\n    <tr>\n      <th>3660</th>\n      <td>1</td>\n      <td>4d4ac10da0ef54814b6ffff6</td>\n      <td>4bf58dd8d48988d157941735</td>\n      <td>American Restaurant</td>\n      <td>40.784018</td>\n      <td>-73.974524</td>\n      <td>-240</td>\n      <td>Sat Apr 07 17:42:24 +0000 2012</td>\n      <td>1.333821e+09</td>\n      <td>1_2</td>\n      <td>4bf58dd8d48988d157941735</td>\n    </tr>\n    <tr>\n      <th>5603</th>\n      <td>1</td>\n      <td>4db44994cda1c57c82583709</td>\n      <td>4bf58dd8d48988d1f1931735</td>\n      <td>General Entertainment</td>\n      <td>40.739398</td>\n      <td>-73.993210</td>\n      <td>-240</td>\n      <td>Sun Apr 08 18:20:29 +0000 2012</td>\n      <td>1.333909e+09</td>\n      <td>1_3</td>\n      <td>4bf58dd8d48988d1f1931735</td>\n    </tr>\n    <tr>\n      <th>5783</th>\n      <td>1</td>\n      <td>4a541923f964a52008b31fe3</td>\n      <td>4bf58dd8d48988d14e941735</td>\n      <td>American Restaurant</td>\n      <td>40.785677</td>\n      <td>-73.976498</td>\n      <td>-240</td>\n      <td>Sun Apr 08 20:02:10 +0000 2012</td>\n      <td>1.333915e+09</td>\n      <td>1_3</td>\n      <td>4bf58dd8d48988d14e941735</td>\n    </tr>\n    <tr>\n      <th>6696</th>\n      <td>1</td>\n      <td>40f1d480f964a5205b0a1fe3</td>\n      <td>4bf58dd8d48988d143941735</td>\n      <td>Breakfast Spot</td>\n      <td>40.719929</td>\n      <td>-74.008532</td>\n      <td>-240</td>\n      <td>Mon Apr 09 16:20:52 +0000 2012</td>\n      <td>1.333988e+09</td>\n      <td>1_3</td>\n      <td>4bf58dd8d48988d143941735</td>\n    </tr>\n    <tr>\n      <th>7666</th>\n      <td>1</td>\n      <td>3fd66200f964a52094e41ee3</td>\n      <td>4bf58dd8d48988d1cc941735</td>\n      <td>Steakhouse</td>\n      <td>40.734276</td>\n      <td>-73.993525</td>\n      <td>-240</td>\n      <td>Tue Apr 10 00:24:31 +0000 2012</td>\n      <td>1.334017e+09</td>\n      <td>1_3</td>\n      <td>4bf58dd8d48988d1cc941735</td>\n    </tr>\n    <tr>\n      <th>8312</th>\n      <td>1</td>\n      <td>4f3283f0e4b057434d8fdc81</td>\n      <td>4bf58dd8d48988d1c1941735</td>\n      <td>Mexican Restaurant</td>\n      <td>40.717888</td>\n      <td>-74.005668</td>\n      <td>-240</td>\n      <td>Tue Apr 10 16:21:48 +0000 2012</td>\n      <td>1.334075e+09</td>\n      <td>1_3</td>\n      <td>4bf58dd8d48988d1c1941735</td>\n    </tr>\n    <tr>\n      <th>11804</th>\n      <td>1</td>\n      <td>49d2b43ef964a520cb5b1fe3</td>\n      <td>4bf58dd8d48988d1e0931735</td>\n      <td>Coffee Shop</td>\n      <td>40.720087</td>\n      <td>-74.003961</td>\n      <td>-240</td>\n      <td>Thu Apr 12 17:19:21 +0000 2012</td>\n      <td>1.334251e+09</td>\n      <td>1_4</td>\n      <td>4bf58dd8d48988d1e0931735</td>\n    </tr>\n    <tr>\n      <th>13737</th>\n      <td>1</td>\n      <td>4f3283f0e4b057434d8fdc81</td>\n      <td>4bf58dd8d48988d1c1941735</td>\n      <td>Mexican Restaurant</td>\n      <td>40.717888</td>\n      <td>-74.005668</td>\n      <td>-240</td>\n      <td>Fri Apr 13 15:41:41 +0000 2012</td>\n      <td>1.334332e+09</td>\n      <td>1_4</td>\n      <td>4bf58dd8d48988d1c1941735</td>\n    </tr>\n    <tr>\n      <th>14856</th>\n      <td>1</td>\n      <td>46ea2358f964a520cf4a1fe3</td>\n      <td>4bf58dd8d48988d11d941735</td>\n      <td>Bar</td>\n      <td>40.760667</td>\n      <td>-73.994948</td>\n      <td>-240</td>\n      <td>Sat Apr 14 01:11:20 +0000 2012</td>\n      <td>1.334366e+09</td>\n      <td>1_4</td>\n      <td>4bf58dd8d48988d11d941735</td>\n    </tr>\n  </tbody>\n</table>\n</div>"
     },
     "execution_count": 13,
     "metadata": {},
     "output_type": "execute_result"
    }
   ],
   "source": [
    "result_df.head(10)"
   ],
   "metadata": {
    "collapsed": false
   }
  },
  {
   "cell_type": "code",
   "execution_count": 24,
   "outputs": [],
   "source": [
    "# 假设你想要将Venue ID (Foursquare)列的列名改成venue_id\n",
    "result_df = result_df.rename(columns={\"poi_cat_name\": \"POI_catname\"})\n"
   ],
   "metadata": {
    "collapsed": false
   }
  },
  {
   "cell_type": "code",
   "execution_count": 6,
   "outputs": [
    {
     "data": {
      "text/plain": "       user_id                    POI_id                 POI_catid  \\\n2454         1  4abc1f51f964a520798620e3  4bf58dd8d48988d1ce941735   \n3660         1  4d4ac10da0ef54814b6ffff6  4bf58dd8d48988d157941735   \n5603         1  4db44994cda1c57c82583709  4bf58dd8d48988d1f1931735   \n5783         1  4a541923f964a52008b31fe3  4bf58dd8d48988d14e941735   \n6696         1  40f1d480f964a5205b0a1fe3  4bf58dd8d48988d143941735   \n7666         1  3fd66200f964a52094e41ee3  4bf58dd8d48988d1cc941735   \n7906         1  42586c80f964a520db201fe3  4bf58dd8d48988d121941735   \n8312         1  4f3283f0e4b057434d8fdc81  4bf58dd8d48988d1c1941735   \n11804        1  49d2b43ef964a520cb5b1fe3  4bf58dd8d48988d1e0931735   \n13737        1  4f3283f0e4b057434d8fdc81  4bf58dd8d48988d1c1941735   \n\n                 POI_catname   latitude  longitude  timezone  \\\n2454      Seafood Restaurant  40.781558 -73.975792      -240   \n3660     American Restaurant  40.784018 -73.974524      -240   \n5603   General Entertainment  40.739398 -73.993210      -240   \n5783     American Restaurant  40.785677 -73.976498      -240   \n6696          Breakfast Spot  40.719929 -74.008532      -240   \n7666              Steakhouse  40.734276 -73.993525      -240   \n7906                     Bar  40.775986 -73.979528      -240   \n8312      Mexican Restaurant  40.717888 -74.005668      -240   \n11804            Coffee Shop  40.720087 -74.003961      -240   \n13737     Mexican Restaurant  40.717888 -74.005668      -240   \n\n                             UTC_time     timestamp trajectory_id  \\\n2454   Wed Apr 04 23:31:31 +0000 2012  1.333582e+09           1_1   \n3660   Sat Apr 07 17:42:24 +0000 2012  1.333821e+09           1_2   \n5603   Sun Apr 08 18:20:29 +0000 2012  1.333909e+09           1_3   \n5783   Sun Apr 08 20:02:10 +0000 2012  1.333915e+09           1_3   \n6696   Mon Apr 09 16:20:52 +0000 2012  1.333988e+09           1_3   \n7666   Tue Apr 10 00:24:31 +0000 2012  1.334017e+09           1_3   \n7906   Tue Apr 10 03:36:56 +0000 2012  1.334029e+09           1_3   \n8312   Tue Apr 10 16:21:48 +0000 2012  1.334075e+09           1_3   \n11804  Thu Apr 12 17:19:21 +0000 2012  1.334251e+09           1_4   \n13737  Fri Apr 13 15:41:41 +0000 2012  1.334332e+09           1_4   \n\n                 POI_catid_code  \n2454   4bf58dd8d48988d1ce941735  \n3660   4bf58dd8d48988d157941735  \n5603   4bf58dd8d48988d1f1931735  \n5783   4bf58dd8d48988d14e941735  \n6696   4bf58dd8d48988d143941735  \n7666   4bf58dd8d48988d1cc941735  \n7906   4bf58dd8d48988d121941735  \n8312   4bf58dd8d48988d1c1941735  \n11804  4bf58dd8d48988d1e0931735  \n13737  4bf58dd8d48988d1c1941735  ",
      "text/html": "<div>\n<style scoped>\n    .dataframe tbody tr th:only-of-type {\n        vertical-align: middle;\n    }\n\n    .dataframe tbody tr th {\n        vertical-align: top;\n    }\n\n    .dataframe thead th {\n        text-align: right;\n    }\n</style>\n<table border=\"1\" class=\"dataframe\">\n  <thead>\n    <tr style=\"text-align: right;\">\n      <th></th>\n      <th>user_id</th>\n      <th>POI_id</th>\n      <th>POI_catid</th>\n      <th>POI_catname</th>\n      <th>latitude</th>\n      <th>longitude</th>\n      <th>timezone</th>\n      <th>UTC_time</th>\n      <th>timestamp</th>\n      <th>trajectory_id</th>\n      <th>POI_catid_code</th>\n    </tr>\n  </thead>\n  <tbody>\n    <tr>\n      <th>2454</th>\n      <td>1</td>\n      <td>4abc1f51f964a520798620e3</td>\n      <td>4bf58dd8d48988d1ce941735</td>\n      <td>Seafood Restaurant</td>\n      <td>40.781558</td>\n      <td>-73.975792</td>\n      <td>-240</td>\n      <td>Wed Apr 04 23:31:31 +0000 2012</td>\n      <td>1.333582e+09</td>\n      <td>1_1</td>\n      <td>4bf58dd8d48988d1ce941735</td>\n    </tr>\n    <tr>\n      <th>3660</th>\n      <td>1</td>\n      <td>4d4ac10da0ef54814b6ffff6</td>\n      <td>4bf58dd8d48988d157941735</td>\n      <td>American Restaurant</td>\n      <td>40.784018</td>\n      <td>-73.974524</td>\n      <td>-240</td>\n      <td>Sat Apr 07 17:42:24 +0000 2012</td>\n      <td>1.333821e+09</td>\n      <td>1_2</td>\n      <td>4bf58dd8d48988d157941735</td>\n    </tr>\n    <tr>\n      <th>5603</th>\n      <td>1</td>\n      <td>4db44994cda1c57c82583709</td>\n      <td>4bf58dd8d48988d1f1931735</td>\n      <td>General Entertainment</td>\n      <td>40.739398</td>\n      <td>-73.993210</td>\n      <td>-240</td>\n      <td>Sun Apr 08 18:20:29 +0000 2012</td>\n      <td>1.333909e+09</td>\n      <td>1_3</td>\n      <td>4bf58dd8d48988d1f1931735</td>\n    </tr>\n    <tr>\n      <th>5783</th>\n      <td>1</td>\n      <td>4a541923f964a52008b31fe3</td>\n      <td>4bf58dd8d48988d14e941735</td>\n      <td>American Restaurant</td>\n      <td>40.785677</td>\n      <td>-73.976498</td>\n      <td>-240</td>\n      <td>Sun Apr 08 20:02:10 +0000 2012</td>\n      <td>1.333915e+09</td>\n      <td>1_3</td>\n      <td>4bf58dd8d48988d14e941735</td>\n    </tr>\n    <tr>\n      <th>6696</th>\n      <td>1</td>\n      <td>40f1d480f964a5205b0a1fe3</td>\n      <td>4bf58dd8d48988d143941735</td>\n      <td>Breakfast Spot</td>\n      <td>40.719929</td>\n      <td>-74.008532</td>\n      <td>-240</td>\n      <td>Mon Apr 09 16:20:52 +0000 2012</td>\n      <td>1.333988e+09</td>\n      <td>1_3</td>\n      <td>4bf58dd8d48988d143941735</td>\n    </tr>\n    <tr>\n      <th>7666</th>\n      <td>1</td>\n      <td>3fd66200f964a52094e41ee3</td>\n      <td>4bf58dd8d48988d1cc941735</td>\n      <td>Steakhouse</td>\n      <td>40.734276</td>\n      <td>-73.993525</td>\n      <td>-240</td>\n      <td>Tue Apr 10 00:24:31 +0000 2012</td>\n      <td>1.334017e+09</td>\n      <td>1_3</td>\n      <td>4bf58dd8d48988d1cc941735</td>\n    </tr>\n    <tr>\n      <th>7906</th>\n      <td>1</td>\n      <td>42586c80f964a520db201fe3</td>\n      <td>4bf58dd8d48988d121941735</td>\n      <td>Bar</td>\n      <td>40.775986</td>\n      <td>-73.979528</td>\n      <td>-240</td>\n      <td>Tue Apr 10 03:36:56 +0000 2012</td>\n      <td>1.334029e+09</td>\n      <td>1_3</td>\n      <td>4bf58dd8d48988d121941735</td>\n    </tr>\n    <tr>\n      <th>8312</th>\n      <td>1</td>\n      <td>4f3283f0e4b057434d8fdc81</td>\n      <td>4bf58dd8d48988d1c1941735</td>\n      <td>Mexican Restaurant</td>\n      <td>40.717888</td>\n      <td>-74.005668</td>\n      <td>-240</td>\n      <td>Tue Apr 10 16:21:48 +0000 2012</td>\n      <td>1.334075e+09</td>\n      <td>1_3</td>\n      <td>4bf58dd8d48988d1c1941735</td>\n    </tr>\n    <tr>\n      <th>11804</th>\n      <td>1</td>\n      <td>49d2b43ef964a520cb5b1fe3</td>\n      <td>4bf58dd8d48988d1e0931735</td>\n      <td>Coffee Shop</td>\n      <td>40.720087</td>\n      <td>-74.003961</td>\n      <td>-240</td>\n      <td>Thu Apr 12 17:19:21 +0000 2012</td>\n      <td>1.334251e+09</td>\n      <td>1_4</td>\n      <td>4bf58dd8d48988d1e0931735</td>\n    </tr>\n    <tr>\n      <th>13737</th>\n      <td>1</td>\n      <td>4f3283f0e4b057434d8fdc81</td>\n      <td>4bf58dd8d48988d1c1941735</td>\n      <td>Mexican Restaurant</td>\n      <td>40.717888</td>\n      <td>-74.005668</td>\n      <td>-240</td>\n      <td>Fri Apr 13 15:41:41 +0000 2012</td>\n      <td>1.334332e+09</td>\n      <td>1_4</td>\n      <td>4bf58dd8d48988d1c1941735</td>\n    </tr>\n  </tbody>\n</table>\n</div>"
     },
     "execution_count": 6,
     "metadata": {},
     "output_type": "execute_result"
    }
   ],
   "source": [
    "result_df.head(10)"
   ],
   "metadata": {
    "collapsed": false
   }
  },
  {
   "cell_type": "code",
   "execution_count": 25,
   "outputs": [],
   "source": [
    "# 获取traj_id列的唯一值\n",
    "traj_ids = result_df[\"trajectory_id\"].unique()\n",
    "\n",
    "# 随机选择80%的traj_id作为训练集的标识\n",
    "traj_ids = pd.Series(traj_ids)\n",
    "train_ids = traj_ids.sample(frac=0.8, random_state=0)\n",
    "\n",
    "# 根据traj_id筛选训练集和测试集\n",
    "train_df = result_df[result_df[\"trajectory_id\"].isin(train_ids)]\n",
    "test_df = result_df[~result_df[\"trajectory_id\"].isin(train_ids)]\n"
   ],
   "metadata": {
    "collapsed": false
   }
  },
  {
   "cell_type": "code",
   "execution_count": 11,
   "outputs": [
    {
     "data": {
      "text/plain": "       user_id                    POI_id                 POI_catid  \\\n2454         1  4abc1f51f964a520798620e3  4bf58dd8d48988d1ce941735   \n3660         1  4d4ac10da0ef54814b6ffff6  4bf58dd8d48988d157941735   \n5603         1  4db44994cda1c57c82583709  4bf58dd8d48988d1f1931735   \n5783         1  4a541923f964a52008b31fe3  4bf58dd8d48988d14e941735   \n6696         1  40f1d480f964a5205b0a1fe3  4bf58dd8d48988d143941735   \n7666         1  3fd66200f964a52094e41ee3  4bf58dd8d48988d1cc941735   \n7906         1  42586c80f964a520db201fe3  4bf58dd8d48988d121941735   \n8312         1  4f3283f0e4b057434d8fdc81  4bf58dd8d48988d1c1941735   \n11804        1  49d2b43ef964a520cb5b1fe3  4bf58dd8d48988d1e0931735   \n13737        1  4f3283f0e4b057434d8fdc81  4bf58dd8d48988d1c1941735   \n\n                 POI_catname   latitude  longitude  timezone  \\\n2454      Seafood Restaurant  40.781558 -73.975792      -240   \n3660     American Restaurant  40.784018 -73.974524      -240   \n5603   General Entertainment  40.739398 -73.993210      -240   \n5783     American Restaurant  40.785677 -73.976498      -240   \n6696          Breakfast Spot  40.719929 -74.008532      -240   \n7666              Steakhouse  40.734276 -73.993525      -240   \n7906                     Bar  40.775986 -73.979528      -240   \n8312      Mexican Restaurant  40.717888 -74.005668      -240   \n11804            Coffee Shop  40.720087 -74.003961      -240   \n13737     Mexican Restaurant  40.717888 -74.005668      -240   \n\n                             UTC_time     timestamp trajectory_id  \\\n2454   Wed Apr 04 23:31:31 +0000 2012  1.333582e+09           1_1   \n3660   Sat Apr 07 17:42:24 +0000 2012  1.333821e+09           1_2   \n5603   Sun Apr 08 18:20:29 +0000 2012  1.333909e+09           1_3   \n5783   Sun Apr 08 20:02:10 +0000 2012  1.333915e+09           1_3   \n6696   Mon Apr 09 16:20:52 +0000 2012  1.333988e+09           1_3   \n7666   Tue Apr 10 00:24:31 +0000 2012  1.334017e+09           1_3   \n7906   Tue Apr 10 03:36:56 +0000 2012  1.334029e+09           1_3   \n8312   Tue Apr 10 16:21:48 +0000 2012  1.334075e+09           1_3   \n11804  Thu Apr 12 17:19:21 +0000 2012  1.334251e+09           1_4   \n13737  Fri Apr 13 15:41:41 +0000 2012  1.334332e+09           1_4   \n\n                 POI_catid_code  \n2454   4bf58dd8d48988d1ce941735  \n3660   4bf58dd8d48988d157941735  \n5603   4bf58dd8d48988d1f1931735  \n5783   4bf58dd8d48988d14e941735  \n6696   4bf58dd8d48988d143941735  \n7666   4bf58dd8d48988d1cc941735  \n7906   4bf58dd8d48988d121941735  \n8312   4bf58dd8d48988d1c1941735  \n11804  4bf58dd8d48988d1e0931735  \n13737  4bf58dd8d48988d1c1941735  ",
      "text/html": "<div>\n<style scoped>\n    .dataframe tbody tr th:only-of-type {\n        vertical-align: middle;\n    }\n\n    .dataframe tbody tr th {\n        vertical-align: top;\n    }\n\n    .dataframe thead th {\n        text-align: right;\n    }\n</style>\n<table border=\"1\" class=\"dataframe\">\n  <thead>\n    <tr style=\"text-align: right;\">\n      <th></th>\n      <th>user_id</th>\n      <th>POI_id</th>\n      <th>POI_catid</th>\n      <th>POI_catname</th>\n      <th>latitude</th>\n      <th>longitude</th>\n      <th>timezone</th>\n      <th>UTC_time</th>\n      <th>timestamp</th>\n      <th>trajectory_id</th>\n      <th>POI_catid_code</th>\n    </tr>\n  </thead>\n  <tbody>\n    <tr>\n      <th>2454</th>\n      <td>1</td>\n      <td>4abc1f51f964a520798620e3</td>\n      <td>4bf58dd8d48988d1ce941735</td>\n      <td>Seafood Restaurant</td>\n      <td>40.781558</td>\n      <td>-73.975792</td>\n      <td>-240</td>\n      <td>Wed Apr 04 23:31:31 +0000 2012</td>\n      <td>1.333582e+09</td>\n      <td>1_1</td>\n      <td>4bf58dd8d48988d1ce941735</td>\n    </tr>\n    <tr>\n      <th>3660</th>\n      <td>1</td>\n      <td>4d4ac10da0ef54814b6ffff6</td>\n      <td>4bf58dd8d48988d157941735</td>\n      <td>American Restaurant</td>\n      <td>40.784018</td>\n      <td>-73.974524</td>\n      <td>-240</td>\n      <td>Sat Apr 07 17:42:24 +0000 2012</td>\n      <td>1.333821e+09</td>\n      <td>1_2</td>\n      <td>4bf58dd8d48988d157941735</td>\n    </tr>\n    <tr>\n      <th>5603</th>\n      <td>1</td>\n      <td>4db44994cda1c57c82583709</td>\n      <td>4bf58dd8d48988d1f1931735</td>\n      <td>General Entertainment</td>\n      <td>40.739398</td>\n      <td>-73.993210</td>\n      <td>-240</td>\n      <td>Sun Apr 08 18:20:29 +0000 2012</td>\n      <td>1.333909e+09</td>\n      <td>1_3</td>\n      <td>4bf58dd8d48988d1f1931735</td>\n    </tr>\n    <tr>\n      <th>5783</th>\n      <td>1</td>\n      <td>4a541923f964a52008b31fe3</td>\n      <td>4bf58dd8d48988d14e941735</td>\n      <td>American Restaurant</td>\n      <td>40.785677</td>\n      <td>-73.976498</td>\n      <td>-240</td>\n      <td>Sun Apr 08 20:02:10 +0000 2012</td>\n      <td>1.333915e+09</td>\n      <td>1_3</td>\n      <td>4bf58dd8d48988d14e941735</td>\n    </tr>\n    <tr>\n      <th>6696</th>\n      <td>1</td>\n      <td>40f1d480f964a5205b0a1fe3</td>\n      <td>4bf58dd8d48988d143941735</td>\n      <td>Breakfast Spot</td>\n      <td>40.719929</td>\n      <td>-74.008532</td>\n      <td>-240</td>\n      <td>Mon Apr 09 16:20:52 +0000 2012</td>\n      <td>1.333988e+09</td>\n      <td>1_3</td>\n      <td>4bf58dd8d48988d143941735</td>\n    </tr>\n    <tr>\n      <th>7666</th>\n      <td>1</td>\n      <td>3fd66200f964a52094e41ee3</td>\n      <td>4bf58dd8d48988d1cc941735</td>\n      <td>Steakhouse</td>\n      <td>40.734276</td>\n      <td>-73.993525</td>\n      <td>-240</td>\n      <td>Tue Apr 10 00:24:31 +0000 2012</td>\n      <td>1.334017e+09</td>\n      <td>1_3</td>\n      <td>4bf58dd8d48988d1cc941735</td>\n    </tr>\n    <tr>\n      <th>7906</th>\n      <td>1</td>\n      <td>42586c80f964a520db201fe3</td>\n      <td>4bf58dd8d48988d121941735</td>\n      <td>Bar</td>\n      <td>40.775986</td>\n      <td>-73.979528</td>\n      <td>-240</td>\n      <td>Tue Apr 10 03:36:56 +0000 2012</td>\n      <td>1.334029e+09</td>\n      <td>1_3</td>\n      <td>4bf58dd8d48988d121941735</td>\n    </tr>\n    <tr>\n      <th>8312</th>\n      <td>1</td>\n      <td>4f3283f0e4b057434d8fdc81</td>\n      <td>4bf58dd8d48988d1c1941735</td>\n      <td>Mexican Restaurant</td>\n      <td>40.717888</td>\n      <td>-74.005668</td>\n      <td>-240</td>\n      <td>Tue Apr 10 16:21:48 +0000 2012</td>\n      <td>1.334075e+09</td>\n      <td>1_3</td>\n      <td>4bf58dd8d48988d1c1941735</td>\n    </tr>\n    <tr>\n      <th>11804</th>\n      <td>1</td>\n      <td>49d2b43ef964a520cb5b1fe3</td>\n      <td>4bf58dd8d48988d1e0931735</td>\n      <td>Coffee Shop</td>\n      <td>40.720087</td>\n      <td>-74.003961</td>\n      <td>-240</td>\n      <td>Thu Apr 12 17:19:21 +0000 2012</td>\n      <td>1.334251e+09</td>\n      <td>1_4</td>\n      <td>4bf58dd8d48988d1e0931735</td>\n    </tr>\n    <tr>\n      <th>13737</th>\n      <td>1</td>\n      <td>4f3283f0e4b057434d8fdc81</td>\n      <td>4bf58dd8d48988d1c1941735</td>\n      <td>Mexican Restaurant</td>\n      <td>40.717888</td>\n      <td>-74.005668</td>\n      <td>-240</td>\n      <td>Fri Apr 13 15:41:41 +0000 2012</td>\n      <td>1.334332e+09</td>\n      <td>1_4</td>\n      <td>4bf58dd8d48988d1c1941735</td>\n    </tr>\n  </tbody>\n</table>\n</div>"
     },
     "execution_count": 11,
     "metadata": {},
     "output_type": "execute_result"
    }
   ],
   "source": [
    "result_df.head(10)"
   ],
   "metadata": {
    "collapsed": false
   }
  },
  {
   "cell_type": "code",
   "execution_count": 26,
   "outputs": [],
   "source": [
    "train_df.to_csv('./dataset/dataset_tsmc2014/NYC_train.csv',sep=',',index=False)\n",
    "test_df.to_csv('./dataset/dataset_tsmc2014/NYC_test.csv',sep=',',index=False)"
   ],
   "metadata": {
    "collapsed": false
   }
  },
  {
   "cell_type": "code",
   "execution_count": 12,
   "outputs": [
    {
     "data": {
      "text/plain": "       user_id                    POI_id                 POI_catid  \\\n2454         1  4abc1f51f964a520798620e3  4bf58dd8d48988d1ce941735   \n3660         1  4d4ac10da0ef54814b6ffff6  4bf58dd8d48988d157941735   \n5603         1  4db44994cda1c57c82583709  4bf58dd8d48988d1f1931735   \n5783         1  4a541923f964a52008b31fe3  4bf58dd8d48988d14e941735   \n6696         1  40f1d480f964a5205b0a1fe3  4bf58dd8d48988d143941735   \n7666         1  3fd66200f964a52094e41ee3  4bf58dd8d48988d1cc941735   \n7906         1  42586c80f964a520db201fe3  4bf58dd8d48988d121941735   \n8312         1  4f3283f0e4b057434d8fdc81  4bf58dd8d48988d1c1941735   \n11804        1  49d2b43ef964a520cb5b1fe3  4bf58dd8d48988d1e0931735   \n13737        1  4f3283f0e4b057434d8fdc81  4bf58dd8d48988d1c1941735   \n\n                 POI_catname   latitude  longitude  timezone  \\\n2454      Seafood Restaurant  40.781558 -73.975792      -240   \n3660     American Restaurant  40.784018 -73.974524      -240   \n5603   General Entertainment  40.739398 -73.993210      -240   \n5783     American Restaurant  40.785677 -73.976498      -240   \n6696          Breakfast Spot  40.719929 -74.008532      -240   \n7666              Steakhouse  40.734276 -73.993525      -240   \n7906                     Bar  40.775986 -73.979528      -240   \n8312      Mexican Restaurant  40.717888 -74.005668      -240   \n11804            Coffee Shop  40.720087 -74.003961      -240   \n13737     Mexican Restaurant  40.717888 -74.005668      -240   \n\n                             UTC_time     timestamp trajectory_id  \\\n2454   Wed Apr 04 23:31:31 +0000 2012  1.333582e+09           1_1   \n3660   Sat Apr 07 17:42:24 +0000 2012  1.333821e+09           1_2   \n5603   Sun Apr 08 18:20:29 +0000 2012  1.333909e+09           1_3   \n5783   Sun Apr 08 20:02:10 +0000 2012  1.333915e+09           1_3   \n6696   Mon Apr 09 16:20:52 +0000 2012  1.333988e+09           1_3   \n7666   Tue Apr 10 00:24:31 +0000 2012  1.334017e+09           1_3   \n7906   Tue Apr 10 03:36:56 +0000 2012  1.334029e+09           1_3   \n8312   Tue Apr 10 16:21:48 +0000 2012  1.334075e+09           1_3   \n11804  Thu Apr 12 17:19:21 +0000 2012  1.334251e+09           1_4   \n13737  Fri Apr 13 15:41:41 +0000 2012  1.334332e+09           1_4   \n\n                 POI_catid_code  \n2454   4bf58dd8d48988d1ce941735  \n3660   4bf58dd8d48988d157941735  \n5603   4bf58dd8d48988d1f1931735  \n5783   4bf58dd8d48988d14e941735  \n6696   4bf58dd8d48988d143941735  \n7666   4bf58dd8d48988d1cc941735  \n7906   4bf58dd8d48988d121941735  \n8312   4bf58dd8d48988d1c1941735  \n11804  4bf58dd8d48988d1e0931735  \n13737  4bf58dd8d48988d1c1941735  ",
      "text/html": "<div>\n<style scoped>\n    .dataframe tbody tr th:only-of-type {\n        vertical-align: middle;\n    }\n\n    .dataframe tbody tr th {\n        vertical-align: top;\n    }\n\n    .dataframe thead th {\n        text-align: right;\n    }\n</style>\n<table border=\"1\" class=\"dataframe\">\n  <thead>\n    <tr style=\"text-align: right;\">\n      <th></th>\n      <th>user_id</th>\n      <th>POI_id</th>\n      <th>POI_catid</th>\n      <th>POI_catname</th>\n      <th>latitude</th>\n      <th>longitude</th>\n      <th>timezone</th>\n      <th>UTC_time</th>\n      <th>timestamp</th>\n      <th>trajectory_id</th>\n      <th>POI_catid_code</th>\n    </tr>\n  </thead>\n  <tbody>\n    <tr>\n      <th>2454</th>\n      <td>1</td>\n      <td>4abc1f51f964a520798620e3</td>\n      <td>4bf58dd8d48988d1ce941735</td>\n      <td>Seafood Restaurant</td>\n      <td>40.781558</td>\n      <td>-73.975792</td>\n      <td>-240</td>\n      <td>Wed Apr 04 23:31:31 +0000 2012</td>\n      <td>1.333582e+09</td>\n      <td>1_1</td>\n      <td>4bf58dd8d48988d1ce941735</td>\n    </tr>\n    <tr>\n      <th>3660</th>\n      <td>1</td>\n      <td>4d4ac10da0ef54814b6ffff6</td>\n      <td>4bf58dd8d48988d157941735</td>\n      <td>American Restaurant</td>\n      <td>40.784018</td>\n      <td>-73.974524</td>\n      <td>-240</td>\n      <td>Sat Apr 07 17:42:24 +0000 2012</td>\n      <td>1.333821e+09</td>\n      <td>1_2</td>\n      <td>4bf58dd8d48988d157941735</td>\n    </tr>\n    <tr>\n      <th>5603</th>\n      <td>1</td>\n      <td>4db44994cda1c57c82583709</td>\n      <td>4bf58dd8d48988d1f1931735</td>\n      <td>General Entertainment</td>\n      <td>40.739398</td>\n      <td>-73.993210</td>\n      <td>-240</td>\n      <td>Sun Apr 08 18:20:29 +0000 2012</td>\n      <td>1.333909e+09</td>\n      <td>1_3</td>\n      <td>4bf58dd8d48988d1f1931735</td>\n    </tr>\n    <tr>\n      <th>5783</th>\n      <td>1</td>\n      <td>4a541923f964a52008b31fe3</td>\n      <td>4bf58dd8d48988d14e941735</td>\n      <td>American Restaurant</td>\n      <td>40.785677</td>\n      <td>-73.976498</td>\n      <td>-240</td>\n      <td>Sun Apr 08 20:02:10 +0000 2012</td>\n      <td>1.333915e+09</td>\n      <td>1_3</td>\n      <td>4bf58dd8d48988d14e941735</td>\n    </tr>\n    <tr>\n      <th>6696</th>\n      <td>1</td>\n      <td>40f1d480f964a5205b0a1fe3</td>\n      <td>4bf58dd8d48988d143941735</td>\n      <td>Breakfast Spot</td>\n      <td>40.719929</td>\n      <td>-74.008532</td>\n      <td>-240</td>\n      <td>Mon Apr 09 16:20:52 +0000 2012</td>\n      <td>1.333988e+09</td>\n      <td>1_3</td>\n      <td>4bf58dd8d48988d143941735</td>\n    </tr>\n    <tr>\n      <th>7666</th>\n      <td>1</td>\n      <td>3fd66200f964a52094e41ee3</td>\n      <td>4bf58dd8d48988d1cc941735</td>\n      <td>Steakhouse</td>\n      <td>40.734276</td>\n      <td>-73.993525</td>\n      <td>-240</td>\n      <td>Tue Apr 10 00:24:31 +0000 2012</td>\n      <td>1.334017e+09</td>\n      <td>1_3</td>\n      <td>4bf58dd8d48988d1cc941735</td>\n    </tr>\n    <tr>\n      <th>7906</th>\n      <td>1</td>\n      <td>42586c80f964a520db201fe3</td>\n      <td>4bf58dd8d48988d121941735</td>\n      <td>Bar</td>\n      <td>40.775986</td>\n      <td>-73.979528</td>\n      <td>-240</td>\n      <td>Tue Apr 10 03:36:56 +0000 2012</td>\n      <td>1.334029e+09</td>\n      <td>1_3</td>\n      <td>4bf58dd8d48988d121941735</td>\n    </tr>\n    <tr>\n      <th>8312</th>\n      <td>1</td>\n      <td>4f3283f0e4b057434d8fdc81</td>\n      <td>4bf58dd8d48988d1c1941735</td>\n      <td>Mexican Restaurant</td>\n      <td>40.717888</td>\n      <td>-74.005668</td>\n      <td>-240</td>\n      <td>Tue Apr 10 16:21:48 +0000 2012</td>\n      <td>1.334075e+09</td>\n      <td>1_3</td>\n      <td>4bf58dd8d48988d1c1941735</td>\n    </tr>\n    <tr>\n      <th>11804</th>\n      <td>1</td>\n      <td>49d2b43ef964a520cb5b1fe3</td>\n      <td>4bf58dd8d48988d1e0931735</td>\n      <td>Coffee Shop</td>\n      <td>40.720087</td>\n      <td>-74.003961</td>\n      <td>-240</td>\n      <td>Thu Apr 12 17:19:21 +0000 2012</td>\n      <td>1.334251e+09</td>\n      <td>1_4</td>\n      <td>4bf58dd8d48988d1e0931735</td>\n    </tr>\n    <tr>\n      <th>13737</th>\n      <td>1</td>\n      <td>4f3283f0e4b057434d8fdc81</td>\n      <td>4bf58dd8d48988d1c1941735</td>\n      <td>Mexican Restaurant</td>\n      <td>40.717888</td>\n      <td>-74.005668</td>\n      <td>-240</td>\n      <td>Fri Apr 13 15:41:41 +0000 2012</td>\n      <td>1.334332e+09</td>\n      <td>1_4</td>\n      <td>4bf58dd8d48988d1c1941735</td>\n    </tr>\n  </tbody>\n</table>\n</div>"
     },
     "execution_count": 12,
     "metadata": {},
     "output_type": "execute_result"
    }
   ],
   "source": [
    "train_df.head(10)"
   ],
   "metadata": {
    "collapsed": false
   }
  },
  {
   "cell_type": "code",
   "execution_count": 28,
   "outputs": [
    {
     "data": {
      "text/plain": "        user_id                    POI_id                 POI_catid  \\\n76832         1  4fb62dcb4fc6cfd3cc2c1acc  4bf58dd8d48988d1f1931735   \n77205         1  46f52f99f964a520ef4a1fe3  4bf58dd8d48988d14e941735   \n83327         1  3fd66200f964a52048e81ee3  4bf58dd8d48988d1e0931735   \n83836         1  3fd66200f964a520c5f11ee3  4bf58dd8d48988d14e941735   \n89016         1  4d27b39755a8b60c0c4bc6c0  4bf58dd8d48988d155941735   \n89276         1  4de3e4effa7651589f21983d  4bf58dd8d48988d11e941735   \n118467        1  49d2b43ef964a520cb5b1fe3  4bf58dd8d48988d1e0931735   \n124184        1  3fd66200f964a520caea1ee3  4bf58dd8d48988d1d4941735   \n124340        1  3fd66200f964a520c7f11ee3  4bf58dd8d48988d1ca941735   \n125126        1  4530db98f964a520623b1fe3  4bf58dd8d48988d190941735   \n\n                  POI_catname   latitude  longitude  timezone  \\\n76832   General Entertainment  40.659952 -73.968866      -240   \n77205     American Restaurant  40.665308 -73.989401      -240   \n83327             Coffee Shop  40.785889 -73.976859      -240   \n83836     American Restaurant  40.719607 -73.986764      -240   \n89016               Gastropub  40.728007 -73.999143      -240   \n89276                     Bar  40.721488 -73.995029      -240   \n118467            Coffee Shop  40.720087 -74.003961      -240   \n124184                    Bar  40.730084 -73.989256      -240   \n124340            Pizza Place  40.731682 -73.996181      -240   \n125126         History Museum  40.792624 -73.952190      -240   \n\n                              UTC_time  norm_in_day_time     timestamp  \\\n76832   Sat May 19 17:54:31 +0000 2012              0.58  1.337450e+09   \n77205   Sat May 19 20:38:26 +0000 2012              0.69  1.337460e+09   \n83327   Sat May 26 01:12:48 +0000 2012              0.88  1.337995e+09   \n83836   Sat May 26 22:44:50 +0000 2012              0.78  1.338072e+09   \n89016   Tue May 29 21:33:52 +0000 2012              0.73  1.338327e+09   \n89276   Tue May 29 23:15:10 +0000 2012              0.80  1.338333e+09   \n118467  Mon Jul 02 18:16:36 +0000 2012              0.59  1.341253e+09   \n124184  Sat Jul 07 00:16:43 +0000 2012              0.84  1.341620e+09   \n124340  Sat Jul 07 02:12:49 +0000 2012              0.92  1.341627e+09   \n125126  Sat Jul 07 19:48:24 +0000 2012              0.66  1.341691e+09   \n\n       trajectory_id            POI_catid_code  \n76832           1_11  4bf58dd8d48988d1f1931735  \n77205           1_11  4bf58dd8d48988d14e941735  \n83327           1_12  4bf58dd8d48988d1e0931735  \n83836           1_12  4bf58dd8d48988d14e941735  \n89016           1_14  4bf58dd8d48988d155941735  \n89276           1_14  4bf58dd8d48988d11e941735  \n118467          1_20  4bf58dd8d48988d1e0931735  \n124184          1_22  4bf58dd8d48988d1d4941735  \n124340          1_22  4bf58dd8d48988d1ca941735  \n125126          1_22  4bf58dd8d48988d190941735  ",
      "text/html": "<div>\n<style scoped>\n    .dataframe tbody tr th:only-of-type {\n        vertical-align: middle;\n    }\n\n    .dataframe tbody tr th {\n        vertical-align: top;\n    }\n\n    .dataframe thead th {\n        text-align: right;\n    }\n</style>\n<table border=\"1\" class=\"dataframe\">\n  <thead>\n    <tr style=\"text-align: right;\">\n      <th></th>\n      <th>user_id</th>\n      <th>POI_id</th>\n      <th>POI_catid</th>\n      <th>POI_catname</th>\n      <th>latitude</th>\n      <th>longitude</th>\n      <th>timezone</th>\n      <th>UTC_time</th>\n      <th>norm_in_day_time</th>\n      <th>timestamp</th>\n      <th>trajectory_id</th>\n      <th>POI_catid_code</th>\n    </tr>\n  </thead>\n  <tbody>\n    <tr>\n      <th>76832</th>\n      <td>1</td>\n      <td>4fb62dcb4fc6cfd3cc2c1acc</td>\n      <td>4bf58dd8d48988d1f1931735</td>\n      <td>General Entertainment</td>\n      <td>40.659952</td>\n      <td>-73.968866</td>\n      <td>-240</td>\n      <td>Sat May 19 17:54:31 +0000 2012</td>\n      <td>0.58</td>\n      <td>1.337450e+09</td>\n      <td>1_11</td>\n      <td>4bf58dd8d48988d1f1931735</td>\n    </tr>\n    <tr>\n      <th>77205</th>\n      <td>1</td>\n      <td>46f52f99f964a520ef4a1fe3</td>\n      <td>4bf58dd8d48988d14e941735</td>\n      <td>American Restaurant</td>\n      <td>40.665308</td>\n      <td>-73.989401</td>\n      <td>-240</td>\n      <td>Sat May 19 20:38:26 +0000 2012</td>\n      <td>0.69</td>\n      <td>1.337460e+09</td>\n      <td>1_11</td>\n      <td>4bf58dd8d48988d14e941735</td>\n    </tr>\n    <tr>\n      <th>83327</th>\n      <td>1</td>\n      <td>3fd66200f964a52048e81ee3</td>\n      <td>4bf58dd8d48988d1e0931735</td>\n      <td>Coffee Shop</td>\n      <td>40.785889</td>\n      <td>-73.976859</td>\n      <td>-240</td>\n      <td>Sat May 26 01:12:48 +0000 2012</td>\n      <td>0.88</td>\n      <td>1.337995e+09</td>\n      <td>1_12</td>\n      <td>4bf58dd8d48988d1e0931735</td>\n    </tr>\n    <tr>\n      <th>83836</th>\n      <td>1</td>\n      <td>3fd66200f964a520c5f11ee3</td>\n      <td>4bf58dd8d48988d14e941735</td>\n      <td>American Restaurant</td>\n      <td>40.719607</td>\n      <td>-73.986764</td>\n      <td>-240</td>\n      <td>Sat May 26 22:44:50 +0000 2012</td>\n      <td>0.78</td>\n      <td>1.338072e+09</td>\n      <td>1_12</td>\n      <td>4bf58dd8d48988d14e941735</td>\n    </tr>\n    <tr>\n      <th>89016</th>\n      <td>1</td>\n      <td>4d27b39755a8b60c0c4bc6c0</td>\n      <td>4bf58dd8d48988d155941735</td>\n      <td>Gastropub</td>\n      <td>40.728007</td>\n      <td>-73.999143</td>\n      <td>-240</td>\n      <td>Tue May 29 21:33:52 +0000 2012</td>\n      <td>0.73</td>\n      <td>1.338327e+09</td>\n      <td>1_14</td>\n      <td>4bf58dd8d48988d155941735</td>\n    </tr>\n    <tr>\n      <th>89276</th>\n      <td>1</td>\n      <td>4de3e4effa7651589f21983d</td>\n      <td>4bf58dd8d48988d11e941735</td>\n      <td>Bar</td>\n      <td>40.721488</td>\n      <td>-73.995029</td>\n      <td>-240</td>\n      <td>Tue May 29 23:15:10 +0000 2012</td>\n      <td>0.80</td>\n      <td>1.338333e+09</td>\n      <td>1_14</td>\n      <td>4bf58dd8d48988d11e941735</td>\n    </tr>\n    <tr>\n      <th>118467</th>\n      <td>1</td>\n      <td>49d2b43ef964a520cb5b1fe3</td>\n      <td>4bf58dd8d48988d1e0931735</td>\n      <td>Coffee Shop</td>\n      <td>40.720087</td>\n      <td>-74.003961</td>\n      <td>-240</td>\n      <td>Mon Jul 02 18:16:36 +0000 2012</td>\n      <td>0.59</td>\n      <td>1.341253e+09</td>\n      <td>1_20</td>\n      <td>4bf58dd8d48988d1e0931735</td>\n    </tr>\n    <tr>\n      <th>124184</th>\n      <td>1</td>\n      <td>3fd66200f964a520caea1ee3</td>\n      <td>4bf58dd8d48988d1d4941735</td>\n      <td>Bar</td>\n      <td>40.730084</td>\n      <td>-73.989256</td>\n      <td>-240</td>\n      <td>Sat Jul 07 00:16:43 +0000 2012</td>\n      <td>0.84</td>\n      <td>1.341620e+09</td>\n      <td>1_22</td>\n      <td>4bf58dd8d48988d1d4941735</td>\n    </tr>\n    <tr>\n      <th>124340</th>\n      <td>1</td>\n      <td>3fd66200f964a520c7f11ee3</td>\n      <td>4bf58dd8d48988d1ca941735</td>\n      <td>Pizza Place</td>\n      <td>40.731682</td>\n      <td>-73.996181</td>\n      <td>-240</td>\n      <td>Sat Jul 07 02:12:49 +0000 2012</td>\n      <td>0.92</td>\n      <td>1.341627e+09</td>\n      <td>1_22</td>\n      <td>4bf58dd8d48988d1ca941735</td>\n    </tr>\n    <tr>\n      <th>125126</th>\n      <td>1</td>\n      <td>4530db98f964a520623b1fe3</td>\n      <td>4bf58dd8d48988d190941735</td>\n      <td>History Museum</td>\n      <td>40.792624</td>\n      <td>-73.952190</td>\n      <td>-240</td>\n      <td>Sat Jul 07 19:48:24 +0000 2012</td>\n      <td>0.66</td>\n      <td>1.341691e+09</td>\n      <td>1_22</td>\n      <td>4bf58dd8d48988d190941735</td>\n    </tr>\n  </tbody>\n</table>\n</div>"
     },
     "execution_count": 28,
     "metadata": {},
     "output_type": "execute_result"
    }
   ],
   "source": [
    "test_df.head(10)"
   ],
   "metadata": {
    "collapsed": false
   }
  },
  {
   "cell_type": "code",
   "execution_count": 27,
   "outputs": [],
   "source": [
    "result_df.to_csv('./dataset/dataset_tsmc2014/NYC.csv',sep=',',index=False)"
   ],
   "metadata": {
    "collapsed": false
   }
  },
  {
   "cell_type": "code",
   "execution_count": 18,
   "outputs": [
    {
     "data": {
      "text/plain": "1083"
     },
     "execution_count": 18,
     "metadata": {},
     "output_type": "execute_result"
    }
   ],
   "source": [
    "len(result_df['user_id'].unique())"
   ],
   "metadata": {
    "collapsed": false
   }
  },
  {
   "cell_type": "code",
   "execution_count": 1,
   "outputs": [],
   "source": [
    "import random"
   ],
   "metadata": {
    "collapsed": false
   }
  },
  {
   "cell_type": "code",
   "execution_count": 22,
   "outputs": [
    {
     "name": "stdout",
     "output_type": "stream",
     "text": [
      "7\n"
     ]
    }
   ],
   "source": [
    "def sample_from(A, B):\n",
    "    # 创建一个空集合，用于存储B中不在A中的元素\n",
    "    candidates = set()\n",
    "    # 遍历B中的每个元素\n",
    "    for x in B:\n",
    "        # 如果x不在A中\n",
    "        if x not in A:\n",
    "            # 将x添加到候选集合中\n",
    "            candidates.add(x)\n",
    "    # 如果候选集合为空，说明B中的所有元素都在A中，无法采样，返回None\n",
    "    if len(candidates) == 0:\n",
    "        return None\n",
    "    # 否则，从候选集合中随机选择一个元素并返回\n",
    "    else:\n",
    "        return random.choice(list(candidates))\n",
    "\n",
    "# 测试一下函数\n",
    "A=[1, 2, 3, 4, 5]\n",
    "B=[3, 4, 5, 6, 7, 8, 9]\n",
    "result = sample_from(A, B)\n",
    "print(result)"
   ],
   "metadata": {
    "collapsed": false
   }
  },
  {
   "cell_type": "code",
   "execution_count": 24,
   "outputs": [
    {
     "data": {
      "text/plain": "[3, 5]"
     },
     "execution_count": 24,
     "metadata": {},
     "output_type": "execute_result"
    }
   ],
   "source": [
    "a=[1,2,3,5]\n",
    "a[int(len(a)/2):]"
   ],
   "metadata": {
    "collapsed": false
   }
  },
  {
   "cell_type": "code",
   "execution_count": 31,
   "outputs": [
    {
     "name": "stdout",
     "output_type": "stream",
     "text": [
      "PackedSequence(data=tensor([[22, 23, 24],\n",
      "        [10, 11, 12],\n",
      "        [ 1,  2,  3],\n",
      "        [25, 26, 27],\n",
      "        [13, 14, 15],\n",
      "        [ 4,  5,  6],\n",
      "        [28, 29, 30],\n",
      "        [16, 17, 18],\n",
      "        [ 7,  8,  9],\n",
      "        [31, 32, 33],\n",
      "        [19, 20, 21],\n",
      "        [34, 35, 36]]), batch_sizes=tensor([3, 3, 3, 2, 1]), sorted_indices=tensor([2, 1, 0]), unsorted_indices=tensor([2, 1, 0]))\n",
      "tensor([[22, 23, 24],\n",
      "        [10, 11, 12],\n",
      "        [ 1,  2,  3],\n",
      "        [25, 26, 27],\n",
      "        [13, 14, 15],\n",
      "        [ 4,  5,  6],\n",
      "        [28, 29, 30],\n",
      "        [16, 17, 18],\n",
      "        [ 7,  8,  9],\n",
      "        [31, 32, 33],\n",
      "        [19, 20, 21],\n",
      "        [34, 35, 36]])\n",
      "tensor([[ 71,  27,  27,  27,  27],\n",
      "        [ 35,  15,  15,  15,  15],\n",
      "        [  8,   6,   6,   6,   6],\n",
      "        [ 80,  30,  30,  30,  30],\n",
      "        [ 44,  18,  18,  18,  18],\n",
      "        [ 17,   9,   9,   9,   9],\n",
      "        [ 89,  33,  33,  33,  33],\n",
      "        [ 53,  21,  21,  21,  21],\n",
      "        [ 26,  12,  12,  12,  12],\n",
      "        [ 98,  36,  36,  36,  36],\n",
      "        [ 62,  24,  24,  24,  24],\n",
      "        [107,  39,  39,  39,  39]])\n"
     ]
    }
   ],
   "source": [
    "import torch\n",
    "import torch.nn.utils.rnn as rnn\n",
    "\n",
    "# 假设你有一个[B,L,D]的矩阵，例如：\n",
    "x = torch.tensor([\n",
    "    [[1, 2, 3], [4, 5, 6], [7, 8, 9], [0, 0, 0], [0, 0, 0]], # 序列长度为3\n",
    "    [[10, 11, 12], [13, 14, 15], [16, 17, 18], [19, 20, 21], [0, 0, 0]], # 序列长度为4\n",
    "    [[22, 23, 24], [25, 26, 27], [28, 29, 30], [31, 32, 33], [34, 35, 36]] # 序列长度为5\n",
    "])\n",
    "\n",
    "# 假设你有一个列表，保存每个序列的长度，例如：\n",
    "lengths = [3, 4, 5]\n",
    "\n",
    "# 使用pack_padded_sequence()函数，将x打包成一个PackedSequence对象，指定填充值为0\n",
    "y = rnn.pack_padded_sequence(x, lengths=lengths, batch_first=True,enforce_sorted=False)\n",
    "\n",
    "# 打印y的内容\n",
    "print(y)\n",
    "label = torch.tensor([\n",
    "    [1, -1,3],\n",
    "    [-1, -1,3],\n",
    "    [-1, -1,3],\n",
    "    [-1, -1,3],\n",
    "    [-1, -1,3]\n",
    "])\n",
    "\n",
    "# 获取y中的data属性，即二维的矩阵，保存所有序列的数据\n",
    "y_data = y.data\n",
    "print(y_data)\n",
    "\n",
    "# 使用inner()函数，计算y_data和label的内积，得到一个一维的向量，保存每个序列与标签的分数\n",
    "scores = torch.inner(y_data, label)\n",
    "\n",
    "# 打印结果\n",
    "print(scores)"
   ],
   "metadata": {
    "collapsed": false
   }
  },
  {
   "cell_type": "code",
   "execution_count": 37,
   "outputs": [
    {
     "name": "stdout",
     "output_type": "stream",
     "text": [
      "tensor([ 3, 18])\n"
     ]
    },
    {
     "data": {
      "text/plain": "tensor([[0, 1],\n        [2, 3]])"
     },
     "execution_count": 37,
     "metadata": {},
     "output_type": "execute_result"
    }
   ],
   "source": [
    "a = torch.tensor([\n",
    "    [1, 2],\n",
    "    [4, 5]\n",
    "])\n",
    "b = torch.tensor([\n",
    "    [1,1],\n",
    "    [2,2]\n",
    "])\n",
    "c = torch.einsum('ij,ij->i', a, b)\n",
    "\n",
    "# 打印结果\n",
    "print(c)\n",
    "torch.sub(a,b)"
   ],
   "metadata": {
    "collapsed": false
   }
  },
  {
   "cell_type": "code",
   "execution_count": 43,
   "outputs": [
    {
     "name": "stdout",
     "output_type": "stream",
     "text": [
      "tensor([[ 4, 16,  5],\n",
      "        [ 9,  9,  5],\n",
      "        [10,  2, 14]])\n"
     ]
    },
    {
     "ename": "KeyboardInterrupt",
     "evalue": "",
     "output_type": "error",
     "traceback": [
      "\u001B[0;31m---------------------------------------------------------------------------\u001B[0m",
      "\u001B[0;31mKeyboardInterrupt\u001B[0m                         Traceback (most recent call last)",
      "Cell \u001B[0;32mIn [43], line 55\u001B[0m\n\u001B[1;32m     53\u001B[0m         \u001B[38;5;28;01mreturn\u001B[39;00m loss\n\u001B[1;32m     54\u001B[0m model\u001B[38;5;241m=\u001B[39mBPR(\u001B[38;5;241m10\u001B[39m,\u001B[38;5;241m20\u001B[39m,\u001B[38;5;241m5\u001B[39m,\u001B[38;5;241m3\u001B[39m)\n\u001B[0;32m---> 55\u001B[0m \u001B[43mmodel\u001B[49m\u001B[43m(\u001B[49m\u001B[43mbatch\u001B[49m\u001B[43m)\u001B[49m\n",
      "File \u001B[0;32m/usr/local/lib/python3.9/site-packages/torch/nn/modules/module.py:1194\u001B[0m, in \u001B[0;36mModule._call_impl\u001B[0;34m(self, *input, **kwargs)\u001B[0m\n\u001B[1;32m   1190\u001B[0m \u001B[38;5;66;03m# If we don't have any hooks, we want to skip the rest of the logic in\u001B[39;00m\n\u001B[1;32m   1191\u001B[0m \u001B[38;5;66;03m# this function, and just call forward.\u001B[39;00m\n\u001B[1;32m   1192\u001B[0m \u001B[38;5;28;01mif\u001B[39;00m \u001B[38;5;129;01mnot\u001B[39;00m (\u001B[38;5;28mself\u001B[39m\u001B[38;5;241m.\u001B[39m_backward_hooks \u001B[38;5;129;01mor\u001B[39;00m \u001B[38;5;28mself\u001B[39m\u001B[38;5;241m.\u001B[39m_forward_hooks \u001B[38;5;129;01mor\u001B[39;00m \u001B[38;5;28mself\u001B[39m\u001B[38;5;241m.\u001B[39m_forward_pre_hooks \u001B[38;5;129;01mor\u001B[39;00m _global_backward_hooks\n\u001B[1;32m   1193\u001B[0m         \u001B[38;5;129;01mor\u001B[39;00m _global_forward_hooks \u001B[38;5;129;01mor\u001B[39;00m _global_forward_pre_hooks):\n\u001B[0;32m-> 1194\u001B[0m     \u001B[38;5;28;01mreturn\u001B[39;00m \u001B[43mforward_call\u001B[49m\u001B[43m(\u001B[49m\u001B[38;5;241;43m*\u001B[39;49m\u001B[38;5;28;43minput\u001B[39;49m\u001B[43m,\u001B[49m\u001B[43m \u001B[49m\u001B[38;5;241;43m*\u001B[39;49m\u001B[38;5;241;43m*\u001B[39;49m\u001B[43mkwargs\u001B[49m\u001B[43m)\u001B[49m\n\u001B[1;32m   1195\u001B[0m \u001B[38;5;66;03m# Do not call functions when jit is used\u001B[39;00m\n\u001B[1;32m   1196\u001B[0m full_backward_hooks, non_full_backward_hooks \u001B[38;5;241m=\u001B[39m [], []\n",
      "Cell \u001B[0;32mIn [43], line 52\u001B[0m, in \u001B[0;36mBPR.forward\u001B[0;34m(self, batch)\u001B[0m\n\u001B[1;32m     50\u001B[0m diff \u001B[38;5;241m=\u001B[39m torch\u001B[38;5;241m.\u001B[39msum(u_emb \u001B[38;5;241m*\u001B[39m (i_emb \u001B[38;5;241m-\u001B[39m j_emb), dim\u001B[38;5;241m=\u001B[39m\u001B[38;5;241m1\u001B[39m)\n\u001B[1;32m     51\u001B[0m \u001B[38;5;66;03m# compute the bpr loss\u001B[39;00m\n\u001B[0;32m---> 52\u001B[0m loss \u001B[38;5;241m=\u001B[39m \u001B[38;5;241m-\u001B[39m\u001B[43mtorch\u001B[49m\u001B[38;5;241m.\u001B[39mmean(F\u001B[38;5;241m.\u001B[39mlogsigmoid(diff))\n\u001B[1;32m     53\u001B[0m \u001B[38;5;28;01mreturn\u001B[39;00m loss\n",
      "Cell \u001B[0;32mIn [43], line 52\u001B[0m, in \u001B[0;36mBPR.forward\u001B[0;34m(self, batch)\u001B[0m\n\u001B[1;32m     50\u001B[0m diff \u001B[38;5;241m=\u001B[39m torch\u001B[38;5;241m.\u001B[39msum(u_emb \u001B[38;5;241m*\u001B[39m (i_emb \u001B[38;5;241m-\u001B[39m j_emb), dim\u001B[38;5;241m=\u001B[39m\u001B[38;5;241m1\u001B[39m)\n\u001B[1;32m     51\u001B[0m \u001B[38;5;66;03m# compute the bpr loss\u001B[39;00m\n\u001B[0;32m---> 52\u001B[0m loss \u001B[38;5;241m=\u001B[39m \u001B[38;5;241m-\u001B[39m\u001B[43mtorch\u001B[49m\u001B[38;5;241m.\u001B[39mmean(F\u001B[38;5;241m.\u001B[39mlogsigmoid(diff))\n\u001B[1;32m     53\u001B[0m \u001B[38;5;28;01mreturn\u001B[39;00m loss\n",
      "File \u001B[0;32m~/pycharm-2021.3.3/plugins/python/helpers/pydev/_pydevd_bundle/pydevd_frame.py:880\u001B[0m, in \u001B[0;36mPyDBFrame.trace_dispatch\u001B[0;34m(self, frame, event, arg)\u001B[0m\n\u001B[1;32m    877\u001B[0m             stop \u001B[38;5;241m=\u001B[39m \u001B[38;5;28;01mFalse\u001B[39;00m\n\u001B[1;32m    879\u001B[0m \u001B[38;5;28;01mif\u001B[39;00m plugin_stop:\n\u001B[0;32m--> 880\u001B[0m     stopped_on_plugin \u001B[38;5;241m=\u001B[39m \u001B[43mplugin_manager\u001B[49m\u001B[38;5;241;43m.\u001B[39;49m\u001B[43mstop\u001B[49m\u001B[43m(\u001B[49m\u001B[43mmain_debugger\u001B[49m\u001B[43m,\u001B[49m\u001B[43m \u001B[49m\u001B[43mframe\u001B[49m\u001B[43m,\u001B[49m\u001B[43m \u001B[49m\u001B[43mevent\u001B[49m\u001B[43m,\u001B[49m\u001B[43m \u001B[49m\u001B[38;5;28;43mself\u001B[39;49m\u001B[38;5;241;43m.\u001B[39;49m\u001B[43m_args\u001B[49m\u001B[43m,\u001B[49m\u001B[43m \u001B[49m\u001B[43mstop_info\u001B[49m\u001B[43m,\u001B[49m\u001B[43m \u001B[49m\u001B[43marg\u001B[49m\u001B[43m,\u001B[49m\u001B[43m \u001B[49m\u001B[43mstep_cmd\u001B[49m\u001B[43m)\u001B[49m\n\u001B[1;32m    881\u001B[0m \u001B[38;5;28;01melif\u001B[39;00m stop:\n\u001B[1;32m    882\u001B[0m     \u001B[38;5;28;01mif\u001B[39;00m is_line:\n",
      "File \u001B[0;32m~/pycharm-2021.3.3/plugins/python/helpers-pro/jupyter_debug/pydev_jupyter_plugin.py:169\u001B[0m, in \u001B[0;36mstop\u001B[0;34m(plugin, pydb, frame, event, args, stop_info, arg, step_cmd)\u001B[0m\n\u001B[1;32m    167\u001B[0m     frame \u001B[38;5;241m=\u001B[39m suspend_jupyter(main_debugger, thread, frame, step_cmd)\n\u001B[1;32m    168\u001B[0m     \u001B[38;5;28;01mif\u001B[39;00m frame:\n\u001B[0;32m--> 169\u001B[0m         \u001B[43mmain_debugger\u001B[49m\u001B[38;5;241;43m.\u001B[39;49m\u001B[43mdo_wait_suspend\u001B[49m\u001B[43m(\u001B[49m\u001B[43mthread\u001B[49m\u001B[43m,\u001B[49m\u001B[43m \u001B[49m\u001B[43mframe\u001B[49m\u001B[43m,\u001B[49m\u001B[43m \u001B[49m\u001B[43mevent\u001B[49m\u001B[43m,\u001B[49m\u001B[43m \u001B[49m\u001B[43marg\u001B[49m\u001B[43m)\u001B[49m\n\u001B[1;32m    170\u001B[0m         \u001B[38;5;28;01mreturn\u001B[39;00m \u001B[38;5;28;01mTrue\u001B[39;00m\n\u001B[1;32m    171\u001B[0m \u001B[38;5;28;01mreturn\u001B[39;00m \u001B[38;5;28;01mFalse\u001B[39;00m\n",
      "File \u001B[0;32m~/pycharm-2021.3.3/plugins/python/helpers/pydev/pydevd.py:1160\u001B[0m, in \u001B[0;36mPyDB.do_wait_suspend\u001B[0;34m(self, thread, frame, event, arg, send_suspend_message, is_unhandled_exception)\u001B[0m\n\u001B[1;32m   1157\u001B[0m         from_this_thread\u001B[38;5;241m.\u001B[39mappend(frame_id)\n\u001B[1;32m   1159\u001B[0m \u001B[38;5;28;01mwith\u001B[39;00m \u001B[38;5;28mself\u001B[39m\u001B[38;5;241m.\u001B[39m_threads_suspended_single_notification\u001B[38;5;241m.\u001B[39mnotify_thread_suspended(thread_id, stop_reason):\n\u001B[0;32m-> 1160\u001B[0m     \u001B[38;5;28;43mself\u001B[39;49m\u001B[38;5;241;43m.\u001B[39;49m\u001B[43m_do_wait_suspend\u001B[49m\u001B[43m(\u001B[49m\u001B[43mthread\u001B[49m\u001B[43m,\u001B[49m\u001B[43m \u001B[49m\u001B[43mframe\u001B[49m\u001B[43m,\u001B[49m\u001B[43m \u001B[49m\u001B[43mevent\u001B[49m\u001B[43m,\u001B[49m\u001B[43m \u001B[49m\u001B[43marg\u001B[49m\u001B[43m,\u001B[49m\u001B[43m \u001B[49m\u001B[43msuspend_type\u001B[49m\u001B[43m,\u001B[49m\u001B[43m \u001B[49m\u001B[43mfrom_this_thread\u001B[49m\u001B[43m)\u001B[49m\n",
      "File \u001B[0;32m~/pycharm-2021.3.3/plugins/python/helpers/pydev/pydevd.py:1175\u001B[0m, in \u001B[0;36mPyDB._do_wait_suspend\u001B[0;34m(self, thread, frame, event, arg, suspend_type, from_this_thread)\u001B[0m\n\u001B[1;32m   1172\u001B[0m             \u001B[38;5;28mself\u001B[39m\u001B[38;5;241m.\u001B[39m_call_mpl_hook()\n\u001B[1;32m   1174\u001B[0m         \u001B[38;5;28mself\u001B[39m\u001B[38;5;241m.\u001B[39mprocess_internal_commands()\n\u001B[0;32m-> 1175\u001B[0m         \u001B[43mtime\u001B[49m\u001B[38;5;241;43m.\u001B[39;49m\u001B[43msleep\u001B[49m\u001B[43m(\u001B[49m\u001B[38;5;241;43m0.01\u001B[39;49m\u001B[43m)\u001B[49m\n\u001B[1;32m   1177\u001B[0m \u001B[38;5;28mself\u001B[39m\u001B[38;5;241m.\u001B[39mcancel_async_evaluation(get_current_thread_id(thread), \u001B[38;5;28mstr\u001B[39m(\u001B[38;5;28mid\u001B[39m(frame)))\n\u001B[1;32m   1179\u001B[0m \u001B[38;5;66;03m# process any stepping instructions\u001B[39;00m\n",
      "\u001B[0;31mKeyboardInterrupt\u001B[0m: "
     ]
    }
   ],
   "source": [
    "import torch\n",
    "import random\n",
    "import torch.nn as nn\n",
    "import torch.nn.functional as F\n",
    "\n",
    "user_count = 10\n",
    "item_count = 20\n",
    "hidden_dim = 5\n",
    "max_len = 3\n",
    "\n",
    "# randomly initialize the user and item embeddings\n",
    "user_emb_w = torch.rand((user_count + 1, hidden_dim))\n",
    "item_emb_w = torch.rand((item_count + 1, hidden_dim))\n",
    "\n",
    "# randomly generate a batch of triplets (u, i, j)\n",
    "batch = []\n",
    "for _ in range(max_len):\n",
    "    u = random.randint(1, user_count) # user id\n",
    "    i = random.randint(1, item_count) # positive item id\n",
    "    j = random.randint(1, item_count) # negative item id\n",
    "    batch.append(torch.tensor([u, i, j]))\n",
    "\n",
    "# pad the batch with 0 to make it have the same length\n",
    "batch = torch.nn.utils.rnn.pad_sequence(batch, batch_first=True, padding_value=0)\n",
    "\n",
    "# print the batch\n",
    "print(batch)\n",
    "\n",
    "\n",
    "class BPR(nn.Module):\n",
    "    def __init__(self, user_count, item_count, hidden_dim, max_len):\n",
    "        super(BPR, self).__init__()\n",
    "        self.user_emb = nn.Embedding(user_count + 1, hidden_dim) # user embedding\n",
    "        self.item_emb = nn.Embedding(item_count + 1, hidden_dim) # item embedding\n",
    "        self.max_len = max_len # maximum number of triplets in a batch\n",
    "\n",
    "    def forward(self, batch):\n",
    "        # batch is a list of triplets (u, i, j)\n",
    "        # pad the batch with 0 to make it have the same length\n",
    "        batch = torch.nn.utils.rnn.pad_sequence(batch, batch_first=True, padding_value=0)\n",
    "        # get the user, positive item and negative item ids\n",
    "        u = batch[:, 0]\n",
    "        i = batch[:, 1]\n",
    "        j = batch[:, 2]\n",
    "        # get the corresponding embeddings\n",
    "        u_emb = self.user_emb(u)\n",
    "        i_emb = self.item_emb(i)\n",
    "        j_emb = self.item_emb(j)\n",
    "        # compute the preference difference\n",
    "        diff = torch.sum(u_emb * (i_emb - j_emb), dim=1)\n",
    "        # compute the bpr loss\n",
    "        loss = -torch.mean(F.logsigmoid(diff))\n",
    "        return loss\n",
    "model=BPR(10,20,5,3)\n",
    "model(batch)"
   ],
   "metadata": {
    "collapsed": false
   }
  }
 ],
 "metadata": {
  "kernelspec": {
   "display_name": "Python 3",
   "language": "python",
   "name": "python3"
  },
  "language_info": {
   "codemirror_mode": {
    "name": "ipython",
    "version": 2
   },
   "file_extension": ".py",
   "mimetype": "text/x-python",
   "name": "python",
   "nbconvert_exporter": "python",
   "pygments_lexer": "ipython2",
   "version": "2.7.6"
  }
 },
 "nbformat": 4,
 "nbformat_minor": 0
}
